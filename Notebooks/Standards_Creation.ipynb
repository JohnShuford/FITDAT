{
 "cells": [
  {
   "cell_type": "code",
   "execution_count": 27,
   "metadata": {},
   "outputs": [],
   "source": [
    "#importing the needed dependencies\n",
    "import pandas as pd\n",
    "import numpy as np"
   ]
  },
  {
   "cell_type": "code",
   "execution_count": 28,
   "metadata": {},
   "outputs": [
    {
     "name": "stderr",
     "output_type": "stream",
     "text": [
      "/Users/johnnyshuford/opt/anaconda3/envs/fitdat/lib/python3.8/site-packages/IPython/core/interactiveshell.py:3146: DtypeWarning: Columns (11) have mixed types.Specify dtype option on import or set low_memory=False.\n",
      "  has_raised = await self.run_ast_nodes(code_ast.body, cell_name,\n"
     ]
    }
   ],
   "source": [
    "#import the csvs\n",
    "onemin_df = pd.read_csv('../CSVs/cleaned/1min.csv')\n",
    "fourmin_df = pd.read_csv('../CSVs/cleaned/4min.csv')\n",
    "thirtymin_df = pd.read_csv('../CSVs/cleaned/30min.csv')\n",
    "sixtymin_df = pd.read_csv('../CSVs/cleaned/60min.csv')\n",
    "onehun_df = pd.read_csv('../CSVs/cleaned/100m.csv')\n",
    "fivehun_df = pd.read_csv('../CSVs/cleaned/500m.csv')\n",
    "onek_df = pd.read_csv('../CSVs/cleaned/1000m.csv')\n",
    "twok_df = pd.read_csv('../CSVs/cleaned/2000m.csv')\n",
    "fivek_df = pd.read_csv('../CSVs/cleaned/5000m.csv')\n",
    "sixk_df = pd.read_csv('../CSVs/cleaned/6000m.csv')\n",
    "tenk_df = pd.read_csv('../CSVs/cleaned/10000m.csv')\n",
    "halfmarathon_df = pd.read_csv('../CSVs/cleaned/21097m.csv')\n",
    "marathon_df = pd.read_csv('../CSVs/cleaned/42195m.csv')\n",
    "total_df = pd.read_csv('../CSVs/cleaned/total.csv')"
   ]
  },
  {
   "cell_type": "code",
   "execution_count": 29,
   "metadata": {},
   "outputs": [],
   "source": [
    "lsofDF = [onemin_df, fourmin_df, thirtymin_df, sixtymin_df, onehun_df, fivehun_df, \n",
    "          onek_df, twok_df, fivek_df, sixk_df, tenk_df, halfmarathon_df, marathon_df]"
   ]
  },
  {
   "cell_type": "code",
   "execution_count": 30,
   "metadata": {},
   "outputs": [],
   "source": [
    "lsofTests = ['1min', '4min', '30min', '60min', '100m', '500m', '1000m',\n",
    "            '2000m', '5000m', '6000m', '10000m', '21097m', '42195m', '']"
   ]
  },
  {
   "cell_type": "code",
   "execution_count": 31,
   "metadata": {},
   "outputs": [],
   "source": [
    "quantArray = np.arange(0, 1.01, 0.01)\n",
    "quantList = quantArray.tolist()"
   ]
  },
  {
   "cell_type": "code",
   "execution_count": 32,
   "metadata": {},
   "outputs": [],
   "source": [
    "count = 0\n",
    "for df in lsofDF:\n",
    "    std = df.quantile(quantList)\n",
    "    std.to_csv(f'../CSVs/standards/raw/{lsofTests[count]}.csv', index = False)\n",
    "    count+=1"
   ]
  },
  {
   "cell_type": "markdown",
   "metadata": {},
   "source": [
    "Cleaning the Standards Tables"
   ]
  },
  {
   "cell_type": "code",
   "execution_count": 33,
   "metadata": {},
   "outputs": [],
   "source": [
    "onemin_df_std = pd.read_csv('../CSVs/standards/raw/1min.csv')\n",
    "fourmin_df_std = pd.read_csv('../CSVs/standards/raw/4min.csv')\n",
    "thirtymin_df_std = pd.read_csv('../CSVs/standards/raw/30min.csv')\n",
    "sixtymin_df_std = pd.read_csv('../CSVs/standards/raw/60min.csv')\n",
    "onehun_df_std = pd.read_csv('../CSVs/standards/raw/100m.csv')\n",
    "fivehun_df_std = pd.read_csv('../CSVs/standards/raw/500m.csv')\n",
    "onek_df_std = pd.read_csv('../CSVs/standards/raw/1000m.csv')\n",
    "twok_df_std = pd.read_csv('../CSVs/standards/raw/2000m.csv')\n",
    "fivek_df_std = pd.read_csv('../CSVs/standards/raw/5000m.csv')\n",
    "sixk_df_std = pd.read_csv('../CSVs/standards/raw/6000m.csv')\n",
    "tenk_df_std = pd.read_csv('../CSVs/standards/raw/10000m.csv')\n",
    "halfmarathon_df_std = pd.read_csv('../CSVs/standards/raw/21097m.csv')\n",
    "marathon_df_std = pd.read_csv('../CSVs/standards/raw/42195m.csv')"
   ]
  },
  {
   "cell_type": "code",
   "execution_count": 34,
   "metadata": {},
   "outputs": [
    {
     "data": {
      "text/html": [
       "<div>\n",
       "<style scoped>\n",
       "    .dataframe tbody tr th:only-of-type {\n",
       "        vertical-align: middle;\n",
       "    }\n",
       "\n",
       "    .dataframe tbody tr th {\n",
       "        vertical-align: top;\n",
       "    }\n",
       "\n",
       "    .dataframe thead th {\n",
       "        text-align: right;\n",
       "    }\n",
       "</style>\n",
       "<table border=\"1\" class=\"dataframe\">\n",
       "  <thead>\n",
       "    <tr style=\"text-align: right;\">\n",
       "      <th></th>\n",
       "      <th>Age</th>\n",
       "      <th>Distance</th>\n",
       "      <th>Season</th>\n",
       "      <th>Split</th>\n",
       "      <th>Watts</th>\n",
       "    </tr>\n",
       "  </thead>\n",
       "  <tbody>\n",
       "    <tr>\n",
       "      <th>0</th>\n",
       "      <td>3.0</td>\n",
       "      <td>32.0</td>\n",
       "      <td>2016.0</td>\n",
       "      <td>69.61</td>\n",
       "      <td>0.42</td>\n",
       "    </tr>\n",
       "    <tr>\n",
       "      <th>1</th>\n",
       "      <td>10.0</td>\n",
       "      <td>191.0</td>\n",
       "      <td>2016.0</td>\n",
       "      <td>77.52</td>\n",
       "      <td>90.32</td>\n",
       "    </tr>\n",
       "    <tr>\n",
       "      <th>2</th>\n",
       "      <td>12.0</td>\n",
       "      <td>207.0</td>\n",
       "      <td>2016.0</td>\n",
       "      <td>79.16</td>\n",
       "      <td>114.97</td>\n",
       "    </tr>\n",
       "    <tr>\n",
       "      <th>3</th>\n",
       "      <td>14.0</td>\n",
       "      <td>218.0</td>\n",
       "      <td>2016.0</td>\n",
       "      <td>80.43</td>\n",
       "      <td>134.31</td>\n",
       "    </tr>\n",
       "    <tr>\n",
       "      <th>4</th>\n",
       "      <td>15.0</td>\n",
       "      <td>227.0</td>\n",
       "      <td>2016.0</td>\n",
       "      <td>81.30</td>\n",
       "      <td>151.62</td>\n",
       "    </tr>\n",
       "    <tr>\n",
       "      <th>...</th>\n",
       "      <td>...</td>\n",
       "      <td>...</td>\n",
       "      <td>...</td>\n",
       "      <td>...</td>\n",
       "      <td>...</td>\n",
       "    </tr>\n",
       "    <tr>\n",
       "      <th>96</th>\n",
       "      <td>70.0</td>\n",
       "      <td>369.0</td>\n",
       "      <td>2021.0</td>\n",
       "      <td>132.16</td>\n",
       "      <td>651.32</td>\n",
       "    </tr>\n",
       "    <tr>\n",
       "      <th>97</th>\n",
       "      <td>72.0</td>\n",
       "      <td>373.0</td>\n",
       "      <td>2021.0</td>\n",
       "      <td>137.61</td>\n",
       "      <td>672.69</td>\n",
       "    </tr>\n",
       "    <tr>\n",
       "      <th>98</th>\n",
       "      <td>74.0</td>\n",
       "      <td>379.0</td>\n",
       "      <td>2021.0</td>\n",
       "      <td>144.93</td>\n",
       "      <td>705.59</td>\n",
       "    </tr>\n",
       "    <tr>\n",
       "      <th>99</th>\n",
       "      <td>79.0</td>\n",
       "      <td>387.0</td>\n",
       "      <td>2021.0</td>\n",
       "      <td>157.07</td>\n",
       "      <td>751.32</td>\n",
       "    </tr>\n",
       "    <tr>\n",
       "      <th>100</th>\n",
       "      <td>116.0</td>\n",
       "      <td>431.0</td>\n",
       "      <td>2021.0</td>\n",
       "      <td>937.50</td>\n",
       "      <td>1037.66</td>\n",
       "    </tr>\n",
       "  </tbody>\n",
       "</table>\n",
       "<p>101 rows × 5 columns</p>\n",
       "</div>"
      ],
      "text/plain": [
       "       Age  Distance  Season   Split    Watts\n",
       "0      3.0      32.0  2016.0   69.61     0.42\n",
       "1     10.0     191.0  2016.0   77.52    90.32\n",
       "2     12.0     207.0  2016.0   79.16   114.97\n",
       "3     14.0     218.0  2016.0   80.43   134.31\n",
       "4     15.0     227.0  2016.0   81.30   151.62\n",
       "..     ...       ...     ...     ...      ...\n",
       "96    70.0     369.0  2021.0  132.16   651.32\n",
       "97    72.0     373.0  2021.0  137.61   672.69\n",
       "98    74.0     379.0  2021.0  144.93   705.59\n",
       "99    79.0     387.0  2021.0  157.07   751.32\n",
       "100  116.0     431.0  2021.0  937.50  1037.66\n",
       "\n",
       "[101 rows x 5 columns]"
      ]
     },
     "execution_count": 34,
     "metadata": {},
     "output_type": "execute_result"
    }
   ],
   "source": [
    "onemin_df_std"
   ]
  },
  {
   "cell_type": "code",
   "execution_count": null,
   "metadata": {},
   "outputs": [],
   "source": []
  }
 ],
 "metadata": {
  "kernelspec": {
   "display_name": "Python [conda env:fitdat] *",
   "language": "python",
   "name": "conda-env-fitdat-py"
  },
  "language_info": {
   "codemirror_mode": {
    "name": "ipython",
    "version": 3
   },
   "file_extension": ".py",
   "mimetype": "text/x-python",
   "name": "python",
   "nbconvert_exporter": "python",
   "pygments_lexer": "ipython3",
   "version": "3.8.5"
  }
 },
 "nbformat": 4,
 "nbformat_minor": 4
}
