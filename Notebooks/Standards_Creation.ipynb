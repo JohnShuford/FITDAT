{
 "cells": [
  {
   "cell_type": "code",
   "execution_count": 1,
   "metadata": {},
   "outputs": [],
   "source": [
    "#importing the needed dependencies\n",
    "import pandas as pd\n",
    "import numpy as np"
   ]
  },
  {
   "cell_type": "code",
   "execution_count": 4,
   "metadata": {},
   "outputs": [
    {
     "name": "stderr",
     "output_type": "stream",
     "text": [
      "/Users/johnnyshuford/opt/anaconda3/envs/fitdat/lib/python3.8/site-packages/IPython/core/interactiveshell.py:3146: DtypeWarning: Columns (11) have mixed types.Specify dtype option on import or set low_memory=False.\n",
      "  has_raised = await self.run_ast_nodes(code_ast.body, cell_name,\n"
     ]
    }
   ],
   "source": [
    "#import the csvs\n",
    "onemin_df = pd.read_csv('../CSVs/cleaned/1min.csv')\n",
    "fourmin_df = pd.read_csv('../CSVs/cleaned/4min.csv')\n",
    "thirtymin_df = pd.read_csv('../CSVs/cleaned/30min.csv')\n",
    "sixtymin_df = pd.read_csv('../CSVs/cleaned/60min.csv')\n",
    "onehun_df = pd.read_csv('../CSVs/cleaned/100m.csv')\n",
    "fivehun_df = pd.read_csv('../CSVs/cleaned/500m.csv')\n",
    "onek_df = pd.read_csv('../CSVs/cleaned/1000m.csv')\n",
    "twok_df = pd.read_csv('../CSVs/cleaned/2000m.csv')\n",
    "fivek_df = pd.read_csv('../CSVs/cleaned/5000m.csv')\n",
    "sixk_df = pd.read_csv('../CSVs/cleaned/6000m.csv')\n",
    "tenk_df = pd.read_csv('../CSVs/cleaned/10000m.csv')\n",
    "halfmarathon_df = pd.read_csv('../CSVs/cleaned/21097m.csv')\n",
    "marathon_df = pd.read_csv('../CSVs/cleaned/42195m.csv')\n",
    "total_df = pd.read_csv('../CSVs/cleaned/total.csv')"
   ]
  },
  {
   "cell_type": "code",
   "execution_count": 22,
   "metadata": {},
   "outputs": [],
   "source": [
    "lsofDF = [onemin_df, fourmin_df, thirtymin_df, sixtymin_df, onehun_df, fivehun_df, \n",
    "          onek_df, twok_df, fivek_df, sixk_df, tenk_df, halfmarathon_df, marathon_df]"
   ]
  },
  {
   "cell_type": "code",
   "execution_count": 23,
   "metadata": {},
   "outputs": [],
   "source": [
    "lsofTests = ['1min', '4min', '30min', '60min', '100m', '500m', '1000m',\n",
    "            '2000m', '5000m', '6000m', '10000m', '21097m', '42195m', '']"
   ]
  },
  {
   "cell_type": "code",
   "execution_count": 24,
   "metadata": {},
   "outputs": [],
   "source": [
    "quantArray = np.arange(0, 1.01, 0.01)\n",
    "quantList = quantArray.tolist()"
   ]
  },
  {
   "cell_type": "code",
   "execution_count": 33,
   "metadata": {},
   "outputs": [],
   "source": [
    "count = 0\n",
    "for df in lsofDF:\n",
    "    df.quantile(quantList)\n",
    "    df.to_csv(f'../CSVs/standards/{lsofTests[count]}.csv')\n",
    "    count+=1"
   ]
  },
  {
   "cell_type": "code",
   "execution_count": null,
   "metadata": {},
   "outputs": [],
   "source": []
  }
 ],
 "metadata": {
  "kernelspec": {
   "display_name": "Python [conda env:fitdat] *",
   "language": "python",
   "name": "conda-env-fitdat-py"
  },
  "language_info": {
   "codemirror_mode": {
    "name": "ipython",
    "version": 3
   },
   "file_extension": ".py",
   "mimetype": "text/x-python",
   "name": "python",
   "nbconvert_exporter": "python",
   "pygments_lexer": "ipython3",
   "version": "3.8.5"
  }
 },
 "nbformat": 4,
 "nbformat_minor": 4
}
