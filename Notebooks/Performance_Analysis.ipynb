{
 "cells": [
  {
   "cell_type": "markdown",
   "metadata": {},
   "source": [
    "# Performance Analysis"
   ]
  },
  {
   "cell_type": "markdown",
   "metadata": {},
   "source": [
    "## Gathering the Necessary Materials"
   ]
  },
  {
   "cell_type": "markdown",
   "metadata": {},
   "source": [
    "### Dependencies"
   ]
  },
  {
   "cell_type": "code",
   "execution_count": 53,
   "metadata": {},
   "outputs": [],
   "source": [
    "#importing the needed dependencies\n",
    "import pandas as pd\n",
    "import plotly.express as px"
   ]
  },
  {
   "cell_type": "markdown",
   "metadata": {},
   "source": [
    "### CSV's"
   ]
  },
  {
   "cell_type": "code",
   "execution_count": 2,
   "metadata": {},
   "outputs": [],
   "source": [
    "#import the csvs\n",
    "onemin_df = pd.read_csv('../CSVs/1min.csv')\n",
    "fourmin_df = pd.read_csv('../CSVs/4min.csv')\n",
    "thirtymin_df = pd.read_csv('../CSVs/30min.csv')\n",
    "sixtymin_df = pd.read_csv('../CSVs/60min.csv')\n",
    "onehun_df = pd.read_csv('../CSVs/100m.csv')\n",
    "fivehun_df = pd.read_csv('../CSVs/500m.csv')\n",
    "onek_df = pd.read_csv('../CSVs/1000m.csv')\n",
    "twok_df = pd.read_csv('../CSVs/2000m.csv')\n",
    "fivek_df = pd.read_csv('../CSVs/5000m.csv')\n",
    "sixk_df = pd.read_csv('../CSVs/6000m.csv')\n",
    "tenk_df = pd.read_csv('../CSVs/10000m.csv')\n",
    "halfmarathon_df = pd.read_csv('../CSVs/HalfMarathon.csv')\n",
    "marathon_df = pd.read_csv('../CSVs/Marathon.csv')"
   ]
  },
  {
   "cell_type": "markdown",
   "metadata": {},
   "source": [
    "## Getting Clean"
   ]
  },
  {
   "cell_type": "markdown",
   "metadata": {},
   "source": [
    "- Renaming\n",
    "- Dropping Unnecessary Columns"
   ]
  },
  {
   "cell_type": "code",
   "execution_count": 3,
   "metadata": {},
   "outputs": [
    {
     "data": {
      "text/html": [
       "<div>\n",
       "<style scoped>\n",
       "    .dataframe tbody tr th:only-of-type {\n",
       "        vertical-align: middle;\n",
       "    }\n",
       "\n",
       "    .dataframe tbody tr th {\n",
       "        vertical-align: top;\n",
       "    }\n",
       "\n",
       "    .dataframe thead th {\n",
       "        text-align: right;\n",
       "    }\n",
       "</style>\n",
       "<table border=\"1\" class=\"dataframe\">\n",
       "  <thead>\n",
       "    <tr style=\"text-align: right;\">\n",
       "      <th></th>\n",
       "      <th>Unnamed: 0</th>\n",
       "      <th>Pos.</th>\n",
       "      <th>Name</th>\n",
       "      <th>Age</th>\n",
       "      <th>Location</th>\n",
       "      <th>Country</th>\n",
       "      <th>Club/Affiliation</th>\n",
       "      <th>Time</th>\n",
       "      <th>Type</th>\n",
       "      <th>Verified</th>\n",
       "      <th>Season</th>\n",
       "    </tr>\n",
       "  </thead>\n",
       "  <tbody>\n",
       "    <tr>\n",
       "      <th>0</th>\n",
       "      <td>0</td>\n",
       "      <td>1</td>\n",
       "      <td>Matthias Siejkowski</td>\n",
       "      <td>37</td>\n",
       "      <td>NaN</td>\n",
       "      <td>GER</td>\n",
       "      <td>NaN</td>\n",
       "      <td>5:37.0</td>\n",
       "      <td>I</td>\n",
       "      <td>Race</td>\n",
       "      <td>2002</td>\n",
       "    </tr>\n",
       "    <tr>\n",
       "      <th>1</th>\n",
       "      <td>1</td>\n",
       "      <td>2</td>\n",
       "      <td>Justin Sires</td>\n",
       "      <td>25</td>\n",
       "      <td>Brisbane</td>\n",
       "      <td>AUS</td>\n",
       "      <td>NaN</td>\n",
       "      <td>5:46.7</td>\n",
       "      <td>I</td>\n",
       "      <td>No</td>\n",
       "      <td>2002</td>\n",
       "    </tr>\n",
       "    <tr>\n",
       "      <th>2</th>\n",
       "      <td>2</td>\n",
       "      <td>3</td>\n",
       "      <td>Matthew Pinsent</td>\n",
       "      <td>31</td>\n",
       "      <td>NaN</td>\n",
       "      <td>GBR</td>\n",
       "      <td>Leander Club</td>\n",
       "      <td>5:47.5</td>\n",
       "      <td>I</td>\n",
       "      <td>Race</td>\n",
       "      <td>2002</td>\n",
       "    </tr>\n",
       "    <tr>\n",
       "      <th>3</th>\n",
       "      <td>3</td>\n",
       "      <td>4</td>\n",
       "      <td>James Cracknell</td>\n",
       "      <td>29</td>\n",
       "      <td>NaN</td>\n",
       "      <td>GBR</td>\n",
       "      <td>Leander Club</td>\n",
       "      <td>5:47.6</td>\n",
       "      <td>I</td>\n",
       "      <td>Race</td>\n",
       "      <td>2002</td>\n",
       "    </tr>\n",
       "    <tr>\n",
       "      <th>4</th>\n",
       "      <td>4</td>\n",
       "      <td>5</td>\n",
       "      <td>Chris Grothkopp</td>\n",
       "      <td>22</td>\n",
       "      <td>Princeton, NJ</td>\n",
       "      <td>USA</td>\n",
       "      <td>NaN</td>\n",
       "      <td>5:49.4</td>\n",
       "      <td>I</td>\n",
       "      <td>Race</td>\n",
       "      <td>2002</td>\n",
       "    </tr>\n",
       "  </tbody>\n",
       "</table>\n",
       "</div>"
      ],
      "text/plain": [
       "   Unnamed: 0  Pos.                 Name  Age       Location Country  \\\n",
       "0           0     1  Matthias Siejkowski   37            NaN     GER   \n",
       "1           1     2         Justin Sires   25       Brisbane     AUS   \n",
       "2           2     3      Matthew Pinsent   31            NaN     GBR   \n",
       "3           3     4      James Cracknell   29            NaN     GBR   \n",
       "4           4     5      Chris Grothkopp   22  Princeton, NJ     USA   \n",
       "\n",
       "  Club/Affiliation    Time Type Verified  Season  \n",
       "0              NaN  5:37.0    I     Race    2002  \n",
       "1              NaN  5:46.7    I       No    2002  \n",
       "2     Leander Club  5:47.5    I     Race    2002  \n",
       "3     Leander Club  5:47.6    I     Race    2002  \n",
       "4              NaN  5:49.4    I     Race    2002  "
      ]
     },
     "execution_count": 3,
     "metadata": {},
     "output_type": "execute_result"
    }
   ],
   "source": [
    "#renaming the year column to season\n",
    "twok_df = twok_df.rename(columns={\"Year\": \"Season\"})\n",
    "twok_df.head()"
   ]
  },
  {
   "cell_type": "code",
   "execution_count": 4,
   "metadata": {},
   "outputs": [
    {
     "data": {
      "text/html": [
       "<div>\n",
       "<style scoped>\n",
       "    .dataframe tbody tr th:only-of-type {\n",
       "        vertical-align: middle;\n",
       "    }\n",
       "\n",
       "    .dataframe tbody tr th {\n",
       "        vertical-align: top;\n",
       "    }\n",
       "\n",
       "    .dataframe thead th {\n",
       "        text-align: right;\n",
       "    }\n",
       "</style>\n",
       "<table border=\"1\" class=\"dataframe\">\n",
       "  <thead>\n",
       "    <tr style=\"text-align: right;\">\n",
       "      <th></th>\n",
       "      <th>Pos.</th>\n",
       "      <th>Name</th>\n",
       "      <th>Age</th>\n",
       "      <th>Location</th>\n",
       "      <th>Country</th>\n",
       "      <th>Club/Affiliation</th>\n",
       "      <th>Distance</th>\n",
       "      <th>Type</th>\n",
       "      <th>Verified</th>\n",
       "      <th>Season</th>\n",
       "      <th>Test</th>\n",
       "    </tr>\n",
       "  </thead>\n",
       "  <tbody>\n",
       "    <tr>\n",
       "      <th>0</th>\n",
       "      <td>1</td>\n",
       "      <td>Ross Love</td>\n",
       "      <td>31</td>\n",
       "      <td>Friendswood, TX</td>\n",
       "      <td>USA</td>\n",
       "      <td>NaN</td>\n",
       "      <td>422</td>\n",
       "      <td>I</td>\n",
       "      <td>Yes</td>\n",
       "      <td>2016</td>\n",
       "      <td>1 Minute</td>\n",
       "    </tr>\n",
       "    <tr>\n",
       "      <th>1</th>\n",
       "      <td>2</td>\n",
       "      <td>Mike Reilly</td>\n",
       "      <td>23</td>\n",
       "      <td>Varsity House, NJ</td>\n",
       "      <td>USA</td>\n",
       "      <td>NaN</td>\n",
       "      <td>407</td>\n",
       "      <td>I</td>\n",
       "      <td>Yes</td>\n",
       "      <td>2016</td>\n",
       "      <td>1 Minute</td>\n",
       "    </tr>\n",
       "    <tr>\n",
       "      <th>2</th>\n",
       "      <td>3</td>\n",
       "      <td>Luke Wollenschlaeger</td>\n",
       "      <td>43</td>\n",
       "      <td>Cape Town</td>\n",
       "      <td>RSA</td>\n",
       "      <td>Paddy Power IRC</td>\n",
       "      <td>405</td>\n",
       "      <td>I</td>\n",
       "      <td>Yes</td>\n",
       "      <td>2016</td>\n",
       "      <td>1 Minute</td>\n",
       "    </tr>\n",
       "    <tr>\n",
       "      <th>3</th>\n",
       "      <td>4</td>\n",
       "      <td>Flavio Garrisi</td>\n",
       "      <td>20</td>\n",
       "      <td>Delft</td>\n",
       "      <td>NED</td>\n",
       "      <td>NaN</td>\n",
       "      <td>403</td>\n",
       "      <td>I</td>\n",
       "      <td>No</td>\n",
       "      <td>2016</td>\n",
       "      <td>1 Minute</td>\n",
       "    </tr>\n",
       "    <tr>\n",
       "      <th>4</th>\n",
       "      <td>5</td>\n",
       "      <td>Jack Anderson</td>\n",
       "      <td>28</td>\n",
       "      <td>St. Louis, MO</td>\n",
       "      <td>USA</td>\n",
       "      <td>Project Deliverance, St. Louis, Missouri</td>\n",
       "      <td>398</td>\n",
       "      <td>I</td>\n",
       "      <td>Yes</td>\n",
       "      <td>2016</td>\n",
       "      <td>1 Minute</td>\n",
       "    </tr>\n",
       "  </tbody>\n",
       "</table>\n",
       "</div>"
      ],
      "text/plain": [
       "   Pos.                  Name  Age           Location Country  \\\n",
       "0     1             Ross Love   31    Friendswood, TX     USA   \n",
       "1     2           Mike Reilly   23  Varsity House, NJ     USA   \n",
       "2     3  Luke Wollenschlaeger   43          Cape Town     RSA   \n",
       "3     4        Flavio Garrisi   20              Delft     NED   \n",
       "4     5         Jack Anderson   28      St. Louis, MO     USA   \n",
       "\n",
       "                           Club/Affiliation  Distance Type Verified  Season  \\\n",
       "0                                       NaN       422    I      Yes    2016   \n",
       "1                                       NaN       407    I      Yes    2016   \n",
       "2                           Paddy Power IRC       405    I      Yes    2016   \n",
       "3                                       NaN       403    I       No    2016   \n",
       "4  Project Deliverance, St. Louis, Missouri       398    I      Yes    2016   \n",
       "\n",
       "       Test  \n",
       "0  1 Minute  \n",
       "1  1 Minute  \n",
       "2  1 Minute  \n",
       "3  1 Minute  \n",
       "4  1 Minute  "
      ]
     },
     "execution_count": 4,
     "metadata": {},
     "output_type": "execute_result"
    }
   ],
   "source": [
    "#adding the test column to the dataframe and dropping the unneeded column\n",
    "onemin_df['Test'] = \"1 Minute\"\n",
    "onemin_df = onemin_df.drop(columns=['Unnamed: 0'])\n",
    "onemin_df.head()"
   ]
  },
  {
   "cell_type": "code",
   "execution_count": 5,
   "metadata": {},
   "outputs": [
    {
     "data": {
      "text/html": [
       "<div>\n",
       "<style scoped>\n",
       "    .dataframe tbody tr th:only-of-type {\n",
       "        vertical-align: middle;\n",
       "    }\n",
       "\n",
       "    .dataframe tbody tr th {\n",
       "        vertical-align: top;\n",
       "    }\n",
       "\n",
       "    .dataframe thead th {\n",
       "        text-align: right;\n",
       "    }\n",
       "</style>\n",
       "<table border=\"1\" class=\"dataframe\">\n",
       "  <thead>\n",
       "    <tr style=\"text-align: right;\">\n",
       "      <th></th>\n",
       "      <th>Pos.</th>\n",
       "      <th>Name</th>\n",
       "      <th>Age</th>\n",
       "      <th>Location</th>\n",
       "      <th>Country</th>\n",
       "      <th>Club/Affiliation</th>\n",
       "      <th>Distance</th>\n",
       "      <th>Type</th>\n",
       "      <th>Verified</th>\n",
       "      <th>Season</th>\n",
       "      <th>Test</th>\n",
       "    </tr>\n",
       "  </thead>\n",
       "  <tbody>\n",
       "    <tr>\n",
       "      <th>0</th>\n",
       "      <td>1</td>\n",
       "      <td>Chris Roe</td>\n",
       "      <td>24</td>\n",
       "      <td>Warwick</td>\n",
       "      <td>GBR</td>\n",
       "      <td>NaN</td>\n",
       "      <td>1306</td>\n",
       "      <td>I</td>\n",
       "      <td>No</td>\n",
       "      <td>2002</td>\n",
       "      <td>4 Minute</td>\n",
       "    </tr>\n",
       "    <tr>\n",
       "      <th>1</th>\n",
       "      <td>2</td>\n",
       "      <td>Robert Alderson</td>\n",
       "      <td>36</td>\n",
       "      <td>Prestatyn</td>\n",
       "      <td>GBR</td>\n",
       "      <td>NaN</td>\n",
       "      <td>1291</td>\n",
       "      <td>I</td>\n",
       "      <td>No</td>\n",
       "      <td>2002</td>\n",
       "      <td>4 Minute</td>\n",
       "    </tr>\n",
       "    <tr>\n",
       "      <th>2</th>\n",
       "      <td>3</td>\n",
       "      <td>Peter Johansson</td>\n",
       "      <td>31</td>\n",
       "      <td>Lödöse</td>\n",
       "      <td>SWE</td>\n",
       "      <td>NaN</td>\n",
       "      <td>1287</td>\n",
       "      <td>I</td>\n",
       "      <td>No</td>\n",
       "      <td>2002</td>\n",
       "      <td>4 Minute</td>\n",
       "    </tr>\n",
       "    <tr>\n",
       "      <th>3</th>\n",
       "      <td>4</td>\n",
       "      <td>steven hammonds</td>\n",
       "      <td>34</td>\n",
       "      <td>nuneaton</td>\n",
       "      <td>GBR</td>\n",
       "      <td>NaN</td>\n",
       "      <td>1284</td>\n",
       "      <td>I</td>\n",
       "      <td>No</td>\n",
       "      <td>2002</td>\n",
       "      <td>4 Minute</td>\n",
       "    </tr>\n",
       "    <tr>\n",
       "      <th>4</th>\n",
       "      <td>5</td>\n",
       "      <td>Kevin Wennersten</td>\n",
       "      <td>24</td>\n",
       "      <td>Ridgewood, NJ</td>\n",
       "      <td>USA</td>\n",
       "      <td>Rutgers University</td>\n",
       "      <td>1278</td>\n",
       "      <td>I</td>\n",
       "      <td>No</td>\n",
       "      <td>2002</td>\n",
       "      <td>4 Minute</td>\n",
       "    </tr>\n",
       "  </tbody>\n",
       "</table>\n",
       "</div>"
      ],
      "text/plain": [
       "   Pos.              Name  Age       Location Country    Club/Affiliation  \\\n",
       "0     1         Chris Roe   24        Warwick     GBR                 NaN   \n",
       "1     2   Robert Alderson   36      Prestatyn     GBR                 NaN   \n",
       "2     3   Peter Johansson   31         Lödöse     SWE                 NaN   \n",
       "3     4   steven hammonds   34       nuneaton     GBR                 NaN   \n",
       "4     5  Kevin Wennersten   24  Ridgewood, NJ     USA  Rutgers University   \n",
       "\n",
       "   Distance Type Verified  Season      Test  \n",
       "0      1306    I       No    2002  4 Minute  \n",
       "1      1291    I       No    2002  4 Minute  \n",
       "2      1287    I       No    2002  4 Minute  \n",
       "3      1284    I       No    2002  4 Minute  \n",
       "4      1278    I       No    2002  4 Minute  "
      ]
     },
     "execution_count": 5,
     "metadata": {},
     "output_type": "execute_result"
    }
   ],
   "source": [
    "#adding the test column to the dataframe and dropping the unneeded column\n",
    "fourmin_df['Test'] = \"4 Minute\"\n",
    "fourmin_df = fourmin_df.drop(columns=['Unnamed: 0'])\n",
    "fourmin_df.head()"
   ]
  },
  {
   "cell_type": "code",
   "execution_count": 6,
   "metadata": {},
   "outputs": [
    {
     "data": {
      "text/html": [
       "<div>\n",
       "<style scoped>\n",
       "    .dataframe tbody tr th:only-of-type {\n",
       "        vertical-align: middle;\n",
       "    }\n",
       "\n",
       "    .dataframe tbody tr th {\n",
       "        vertical-align: top;\n",
       "    }\n",
       "\n",
       "    .dataframe thead th {\n",
       "        text-align: right;\n",
       "    }\n",
       "</style>\n",
       "<table border=\"1\" class=\"dataframe\">\n",
       "  <thead>\n",
       "    <tr style=\"text-align: right;\">\n",
       "      <th></th>\n",
       "      <th>Pos.</th>\n",
       "      <th>Name</th>\n",
       "      <th>Age</th>\n",
       "      <th>Location</th>\n",
       "      <th>Country</th>\n",
       "      <th>Club/Affiliation</th>\n",
       "      <th>Distance</th>\n",
       "      <th>Type</th>\n",
       "      <th>Verified</th>\n",
       "      <th>Season</th>\n",
       "      <th>Test</th>\n",
       "    </tr>\n",
       "  </thead>\n",
       "  <tbody>\n",
       "    <tr>\n",
       "      <th>0</th>\n",
       "      <td>1</td>\n",
       "      <td>Nik Fleming</td>\n",
       "      <td>33</td>\n",
       "      <td>Milton, Cambridge</td>\n",
       "      <td>GBR</td>\n",
       "      <td>Cambridge Assessment</td>\n",
       "      <td>9014</td>\n",
       "      <td>I</td>\n",
       "      <td>No</td>\n",
       "      <td>2002</td>\n",
       "      <td>30 Minute</td>\n",
       "    </tr>\n",
       "    <tr>\n",
       "      <th>1</th>\n",
       "      <td>2</td>\n",
       "      <td>Dwayne K. Adams</td>\n",
       "      <td>37</td>\n",
       "      <td>Phoenix, AZ</td>\n",
       "      <td>USA</td>\n",
       "      <td>Free Spirits</td>\n",
       "      <td>8947</td>\n",
       "      <td>I</td>\n",
       "      <td>No</td>\n",
       "      <td>2002</td>\n",
       "      <td>30 Minute</td>\n",
       "    </tr>\n",
       "    <tr>\n",
       "      <th>2</th>\n",
       "      <td>3</td>\n",
       "      <td>David Brown</td>\n",
       "      <td>38</td>\n",
       "      <td>Sandy, UT</td>\n",
       "      <td>USA</td>\n",
       "      <td>NaN</td>\n",
       "      <td>8802</td>\n",
       "      <td>I</td>\n",
       "      <td>No</td>\n",
       "      <td>2002</td>\n",
       "      <td>30 Minute</td>\n",
       "    </tr>\n",
       "    <tr>\n",
       "      <th>3</th>\n",
       "      <td>4</td>\n",
       "      <td>rod freed</td>\n",
       "      <td>52</td>\n",
       "      <td>mission viejo, CA</td>\n",
       "      <td>USA</td>\n",
       "      <td>NaN</td>\n",
       "      <td>8767</td>\n",
       "      <td>I</td>\n",
       "      <td>No</td>\n",
       "      <td>2002</td>\n",
       "      <td>30 Minute</td>\n",
       "    </tr>\n",
       "    <tr>\n",
       "      <th>4</th>\n",
       "      <td>5</td>\n",
       "      <td>Kent Timm</td>\n",
       "      <td>43</td>\n",
       "      <td>Saginaw, MI</td>\n",
       "      <td>USA</td>\n",
       "      <td>NaN</td>\n",
       "      <td>8761</td>\n",
       "      <td>I</td>\n",
       "      <td>No</td>\n",
       "      <td>2002</td>\n",
       "      <td>30 Minute</td>\n",
       "    </tr>\n",
       "  </tbody>\n",
       "</table>\n",
       "</div>"
      ],
      "text/plain": [
       "   Pos.             Name  Age           Location Country  \\\n",
       "0     1      Nik Fleming   33  Milton, Cambridge     GBR   \n",
       "1     2  Dwayne K. Adams   37        Phoenix, AZ     USA   \n",
       "2     3      David Brown   38          Sandy, UT     USA   \n",
       "3     4        rod freed   52  mission viejo, CA     USA   \n",
       "4     5        Kent Timm   43        Saginaw, MI     USA   \n",
       "\n",
       "       Club/Affiliation  Distance Type Verified  Season       Test  \n",
       "0  Cambridge Assessment      9014    I       No    2002  30 Minute  \n",
       "1          Free Spirits      8947    I       No    2002  30 Minute  \n",
       "2                   NaN      8802    I       No    2002  30 Minute  \n",
       "3                   NaN      8767    I       No    2002  30 Minute  \n",
       "4                   NaN      8761    I       No    2002  30 Minute  "
      ]
     },
     "execution_count": 6,
     "metadata": {},
     "output_type": "execute_result"
    }
   ],
   "source": [
    "#adding the test column to the dataframe and dropping the unneeded column\n",
    "thirtymin_df['Test'] = \"30 Minute\"\n",
    "thirtymin_df = thirtymin_df.drop(columns=['Unnamed: 0'])\n",
    "thirtymin_df.head()"
   ]
  },
  {
   "cell_type": "code",
   "execution_count": 7,
   "metadata": {},
   "outputs": [
    {
     "data": {
      "text/html": [
       "<div>\n",
       "<style scoped>\n",
       "    .dataframe tbody tr th:only-of-type {\n",
       "        vertical-align: middle;\n",
       "    }\n",
       "\n",
       "    .dataframe tbody tr th {\n",
       "        vertical-align: top;\n",
       "    }\n",
       "\n",
       "    .dataframe thead th {\n",
       "        text-align: right;\n",
       "    }\n",
       "</style>\n",
       "<table border=\"1\" class=\"dataframe\">\n",
       "  <thead>\n",
       "    <tr style=\"text-align: right;\">\n",
       "      <th></th>\n",
       "      <th>Pos.</th>\n",
       "      <th>Name</th>\n",
       "      <th>Age</th>\n",
       "      <th>Location</th>\n",
       "      <th>Country</th>\n",
       "      <th>Club/Affiliation</th>\n",
       "      <th>Distance</th>\n",
       "      <th>Type</th>\n",
       "      <th>Verified</th>\n",
       "      <th>Season</th>\n",
       "      <th>Test</th>\n",
       "    </tr>\n",
       "  </thead>\n",
       "  <tbody>\n",
       "    <tr>\n",
       "      <th>56187</th>\n",
       "      <td>4010</td>\n",
       "      <td>Christiane Hildesheim</td>\n",
       "      <td>58</td>\n",
       "      <td>NaN</td>\n",
       "      <td>GER</td>\n",
       "      <td>NaN</td>\n",
       "      <td>6163</td>\n",
       "      <td>I</td>\n",
       "      <td>Yes</td>\n",
       "      <td>2021</td>\n",
       "      <td>60 Minute</td>\n",
       "    </tr>\n",
       "    <tr>\n",
       "      <th>56188</th>\n",
       "      <td>4011</td>\n",
       "      <td>Jordan Graves</td>\n",
       "      <td>27</td>\n",
       "      <td>NaN</td>\n",
       "      <td>USA</td>\n",
       "      <td>NaN</td>\n",
       "      <td>6000</td>\n",
       "      <td>I</td>\n",
       "      <td>No</td>\n",
       "      <td>2021</td>\n",
       "      <td>60 Minute</td>\n",
       "    </tr>\n",
       "    <tr>\n",
       "      <th>56189</th>\n",
       "      <td>4011</td>\n",
       "      <td>Phil Goldman</td>\n",
       "      <td>74</td>\n",
       "      <td>Sacramento, CA</td>\n",
       "      <td>USA</td>\n",
       "      <td>NaN</td>\n",
       "      <td>6000</td>\n",
       "      <td>I</td>\n",
       "      <td>No</td>\n",
       "      <td>2021</td>\n",
       "      <td>60 Minute</td>\n",
       "    </tr>\n",
       "    <tr>\n",
       "      <th>56190</th>\n",
       "      <td>4013</td>\n",
       "      <td>michelle vassell</td>\n",
       "      <td>52</td>\n",
       "      <td>NaN</td>\n",
       "      <td>USA</td>\n",
       "      <td>NaN</td>\n",
       "      <td>3097</td>\n",
       "      <td>I</td>\n",
       "      <td>No</td>\n",
       "      <td>2021</td>\n",
       "      <td>60 Minute</td>\n",
       "    </tr>\n",
       "    <tr>\n",
       "      <th>56191</th>\n",
       "      <td>4014</td>\n",
       "      <td>Jon Crawford</td>\n",
       "      <td>73</td>\n",
       "      <td>Tempe, AZ</td>\n",
       "      <td>USA</td>\n",
       "      <td>NaN</td>\n",
       "      <td>212</td>\n",
       "      <td>I</td>\n",
       "      <td>No</td>\n",
       "      <td>2021</td>\n",
       "      <td>60 Minute</td>\n",
       "    </tr>\n",
       "  </tbody>\n",
       "</table>\n",
       "</div>"
      ],
      "text/plain": [
       "       Pos.                   Name  Age        Location Country  \\\n",
       "56187  4010  Christiane Hildesheim   58             NaN     GER   \n",
       "56188  4011          Jordan Graves   27             NaN     USA   \n",
       "56189  4011           Phil Goldman   74  Sacramento, CA     USA   \n",
       "56190  4013       michelle vassell   52             NaN     USA   \n",
       "56191  4014           Jon Crawford   73       Tempe, AZ     USA   \n",
       "\n",
       "      Club/Affiliation  Distance Type Verified  Season       Test  \n",
       "56187              NaN      6163    I      Yes    2021  60 Minute  \n",
       "56188              NaN      6000    I       No    2021  60 Minute  \n",
       "56189              NaN      6000    I       No    2021  60 Minute  \n",
       "56190              NaN      3097    I       No    2021  60 Minute  \n",
       "56191              NaN       212    I       No    2021  60 Minute  "
      ]
     },
     "execution_count": 7,
     "metadata": {},
     "output_type": "execute_result"
    }
   ],
   "source": [
    "#adding the test column to the dataframe and dropping the unneeded column\n",
    "sixtymin_df['Test'] = \"60 Minute\"\n",
    "sixtymin_df = sixtymin_df.drop(columns=['Unnamed: 0'])\n",
    "sixtymin_df.tail()"
   ]
  },
  {
   "cell_type": "code",
   "execution_count": 8,
   "metadata": {},
   "outputs": [
    {
     "data": {
      "text/html": [
       "<div>\n",
       "<style scoped>\n",
       "    .dataframe tbody tr th:only-of-type {\n",
       "        vertical-align: middle;\n",
       "    }\n",
       "\n",
       "    .dataframe tbody tr th {\n",
       "        vertical-align: top;\n",
       "    }\n",
       "\n",
       "    .dataframe thead th {\n",
       "        text-align: right;\n",
       "    }\n",
       "</style>\n",
       "<table border=\"1\" class=\"dataframe\">\n",
       "  <thead>\n",
       "    <tr style=\"text-align: right;\">\n",
       "      <th></th>\n",
       "      <th>Pos.</th>\n",
       "      <th>Name</th>\n",
       "      <th>Age</th>\n",
       "      <th>Location</th>\n",
       "      <th>Country</th>\n",
       "      <th>Club/Affiliation</th>\n",
       "      <th>Time</th>\n",
       "      <th>Type</th>\n",
       "      <th>Verified</th>\n",
       "      <th>Season</th>\n",
       "      <th>Test</th>\n",
       "    </tr>\n",
       "  </thead>\n",
       "  <tbody>\n",
       "    <tr>\n",
       "      <th>0</th>\n",
       "      <td>1</td>\n",
       "      <td>Ross Love</td>\n",
       "      <td>30</td>\n",
       "      <td>Friendswood, TX</td>\n",
       "      <td>USA</td>\n",
       "      <td>NaN</td>\n",
       "      <td>0:13.3</td>\n",
       "      <td>I</td>\n",
       "      <td>Yes</td>\n",
       "      <td>2016</td>\n",
       "      <td>100m</td>\n",
       "    </tr>\n",
       "    <tr>\n",
       "      <th>1</th>\n",
       "      <td>2</td>\n",
       "      <td>noel Carey</td>\n",
       "      <td>40</td>\n",
       "      <td>glanmire</td>\n",
       "      <td>IRL</td>\n",
       "      <td>NaN</td>\n",
       "      <td>0:13.6</td>\n",
       "      <td>I</td>\n",
       "      <td>Yes</td>\n",
       "      <td>2016</td>\n",
       "      <td>100m</td>\n",
       "    </tr>\n",
       "    <tr>\n",
       "      <th>2</th>\n",
       "      <td>3</td>\n",
       "      <td>Mike Reilly</td>\n",
       "      <td>24</td>\n",
       "      <td>Varsity House, NJ</td>\n",
       "      <td>USA</td>\n",
       "      <td>NaN</td>\n",
       "      <td>0:13.7</td>\n",
       "      <td>I</td>\n",
       "      <td>Yes</td>\n",
       "      <td>2016</td>\n",
       "      <td>100m</td>\n",
       "    </tr>\n",
       "    <tr>\n",
       "      <th>3</th>\n",
       "      <td>4</td>\n",
       "      <td>Jack Anderson</td>\n",
       "      <td>28</td>\n",
       "      <td>St. Louis, MO</td>\n",
       "      <td>USA</td>\n",
       "      <td>Project Deliverance, St. Louis, Missouri</td>\n",
       "      <td>0:13.8</td>\n",
       "      <td>I</td>\n",
       "      <td>Yes</td>\n",
       "      <td>2016</td>\n",
       "      <td>100m</td>\n",
       "    </tr>\n",
       "    <tr>\n",
       "      <th>4</th>\n",
       "      <td>4</td>\n",
       "      <td>Flavio Garrisi</td>\n",
       "      <td>20</td>\n",
       "      <td>Delft</td>\n",
       "      <td>NED</td>\n",
       "      <td>NaN</td>\n",
       "      <td>0:13.8</td>\n",
       "      <td>I</td>\n",
       "      <td>No</td>\n",
       "      <td>2016</td>\n",
       "      <td>100m</td>\n",
       "    </tr>\n",
       "  </tbody>\n",
       "</table>\n",
       "</div>"
      ],
      "text/plain": [
       "   Pos.            Name  Age           Location Country  \\\n",
       "0     1       Ross Love   30    Friendswood, TX     USA   \n",
       "1     2      noel Carey   40           glanmire     IRL   \n",
       "2     3     Mike Reilly   24  Varsity House, NJ     USA   \n",
       "3     4   Jack Anderson   28      St. Louis, MO     USA   \n",
       "4     4  Flavio Garrisi   20              Delft     NED   \n",
       "\n",
       "                           Club/Affiliation    Time Type Verified  Season  \\\n",
       "0                                       NaN  0:13.3    I      Yes    2016   \n",
       "1                                       NaN  0:13.6    I      Yes    2016   \n",
       "2                                       NaN  0:13.7    I      Yes    2016   \n",
       "3  Project Deliverance, St. Louis, Missouri  0:13.8    I      Yes    2016   \n",
       "4                                       NaN  0:13.8    I       No    2016   \n",
       "\n",
       "   Test  \n",
       "0  100m  \n",
       "1  100m  \n",
       "2  100m  \n",
       "3  100m  \n",
       "4  100m  "
      ]
     },
     "execution_count": 8,
     "metadata": {},
     "output_type": "execute_result"
    }
   ],
   "source": [
    "#adding the test column to the dataframe and dropping the unneeded column\n",
    "onehun_df['Test'] = \"100m\"\n",
    "onehun_df = onehun_df.drop(columns=['Unnamed: 0'])\n",
    "onehun_df.head()"
   ]
  },
  {
   "cell_type": "code",
   "execution_count": 9,
   "metadata": {},
   "outputs": [
    {
     "data": {
      "text/html": [
       "<div>\n",
       "<style scoped>\n",
       "    .dataframe tbody tr th:only-of-type {\n",
       "        vertical-align: middle;\n",
       "    }\n",
       "\n",
       "    .dataframe tbody tr th {\n",
       "        vertical-align: top;\n",
       "    }\n",
       "\n",
       "    .dataframe thead th {\n",
       "        text-align: right;\n",
       "    }\n",
       "</style>\n",
       "<table border=\"1\" class=\"dataframe\">\n",
       "  <thead>\n",
       "    <tr style=\"text-align: right;\">\n",
       "      <th></th>\n",
       "      <th>Pos.</th>\n",
       "      <th>Name</th>\n",
       "      <th>Age</th>\n",
       "      <th>Location</th>\n",
       "      <th>Country</th>\n",
       "      <th>Club/Affiliation</th>\n",
       "      <th>Time</th>\n",
       "      <th>Type</th>\n",
       "      <th>Verified</th>\n",
       "      <th>Season</th>\n",
       "      <th>Test</th>\n",
       "    </tr>\n",
       "  </thead>\n",
       "  <tbody>\n",
       "    <tr>\n",
       "      <th>0</th>\n",
       "      <td>1</td>\n",
       "      <td>Rob Smith</td>\n",
       "      <td>31</td>\n",
       "      <td>Hurstpierpoint</td>\n",
       "      <td>GBR</td>\n",
       "      <td>MAD Team IRC</td>\n",
       "      <td>1:19.0</td>\n",
       "      <td>I</td>\n",
       "      <td>No</td>\n",
       "      <td>2002</td>\n",
       "      <td>500m</td>\n",
       "    </tr>\n",
       "    <tr>\n",
       "      <th>1</th>\n",
       "      <td>1</td>\n",
       "      <td>Tony Larkman</td>\n",
       "      <td>32</td>\n",
       "      <td>Bath</td>\n",
       "      <td>GBR</td>\n",
       "      <td>MAD Team IRC</td>\n",
       "      <td>1:19.0</td>\n",
       "      <td>I</td>\n",
       "      <td>No</td>\n",
       "      <td>2002</td>\n",
       "      <td>500m</td>\n",
       "    </tr>\n",
       "    <tr>\n",
       "      <th>2</th>\n",
       "      <td>3</td>\n",
       "      <td>Graham Benton</td>\n",
       "      <td>28</td>\n",
       "      <td>London</td>\n",
       "      <td>GBR</td>\n",
       "      <td>MAD Team IRC</td>\n",
       "      <td>1:19.1</td>\n",
       "      <td>I</td>\n",
       "      <td>No</td>\n",
       "      <td>2002</td>\n",
       "      <td>500m</td>\n",
       "    </tr>\n",
       "    <tr>\n",
       "      <th>3</th>\n",
       "      <td>3</td>\n",
       "      <td>John Stenard</td>\n",
       "      <td>43</td>\n",
       "      <td>St. Petersburg, FL</td>\n",
       "      <td>USA</td>\n",
       "      <td>Massachusetts Institute of Technology</td>\n",
       "      <td>1:19.1</td>\n",
       "      <td>I</td>\n",
       "      <td>Race</td>\n",
       "      <td>2002</td>\n",
       "      <td>500m</td>\n",
       "    </tr>\n",
       "    <tr>\n",
       "      <th>4</th>\n",
       "      <td>5</td>\n",
       "      <td>David King</td>\n",
       "      <td>41</td>\n",
       "      <td>Charlton</td>\n",
       "      <td>GBR</td>\n",
       "      <td>NaN</td>\n",
       "      <td>1:19.3</td>\n",
       "      <td>I</td>\n",
       "      <td>No</td>\n",
       "      <td>2002</td>\n",
       "      <td>500m</td>\n",
       "    </tr>\n",
       "  </tbody>\n",
       "</table>\n",
       "</div>"
      ],
      "text/plain": [
       "   Pos.           Name  Age            Location Country  \\\n",
       "0     1      Rob Smith   31      Hurstpierpoint     GBR   \n",
       "1     1   Tony Larkman   32                Bath     GBR   \n",
       "2     3  Graham Benton   28              London     GBR   \n",
       "3     3   John Stenard   43  St. Petersburg, FL     USA   \n",
       "4     5     David King   41            Charlton     GBR   \n",
       "\n",
       "                        Club/Affiliation    Time Type Verified  Season  Test  \n",
       "0                           MAD Team IRC  1:19.0    I       No    2002  500m  \n",
       "1                           MAD Team IRC  1:19.0    I       No    2002  500m  \n",
       "2                           MAD Team IRC  1:19.1    I       No    2002  500m  \n",
       "3  Massachusetts Institute of Technology  1:19.1    I     Race    2002  500m  \n",
       "4                                    NaN  1:19.3    I       No    2002  500m  "
      ]
     },
     "execution_count": 9,
     "metadata": {},
     "output_type": "execute_result"
    }
   ],
   "source": [
    "#adding the test column to the dataframe and dropping the unneeded column\n",
    "fivehun_df['Test'] = \"500m\"\n",
    "fivehun_df = fivehun_df.drop(columns=['Unnamed: 0'])\n",
    "fivehun_df.head()"
   ]
  },
  {
   "cell_type": "code",
   "execution_count": 10,
   "metadata": {},
   "outputs": [
    {
     "data": {
      "text/html": [
       "<div>\n",
       "<style scoped>\n",
       "    .dataframe tbody tr th:only-of-type {\n",
       "        vertical-align: middle;\n",
       "    }\n",
       "\n",
       "    .dataframe tbody tr th {\n",
       "        vertical-align: top;\n",
       "    }\n",
       "\n",
       "    .dataframe thead th {\n",
       "        text-align: right;\n",
       "    }\n",
       "</style>\n",
       "<table border=\"1\" class=\"dataframe\">\n",
       "  <thead>\n",
       "    <tr style=\"text-align: right;\">\n",
       "      <th></th>\n",
       "      <th>Pos.</th>\n",
       "      <th>Name</th>\n",
       "      <th>Age</th>\n",
       "      <th>Location</th>\n",
       "      <th>Country</th>\n",
       "      <th>Club/Affiliation</th>\n",
       "      <th>Time</th>\n",
       "      <th>Type</th>\n",
       "      <th>Verified</th>\n",
       "      <th>Season</th>\n",
       "      <th>Test</th>\n",
       "    </tr>\n",
       "  </thead>\n",
       "  <tbody>\n",
       "    <tr>\n",
       "      <th>0</th>\n",
       "      <td>1</td>\n",
       "      <td>Chris Roe</td>\n",
       "      <td>24</td>\n",
       "      <td>Warwick</td>\n",
       "      <td>GBR</td>\n",
       "      <td>NaN</td>\n",
       "      <td>2:55.4</td>\n",
       "      <td>I</td>\n",
       "      <td>No</td>\n",
       "      <td>2002</td>\n",
       "      <td>1000m</td>\n",
       "    </tr>\n",
       "    <tr>\n",
       "      <th>1</th>\n",
       "      <td>1</td>\n",
       "      <td>David Brown</td>\n",
       "      <td>38</td>\n",
       "      <td>Sandy, UT</td>\n",
       "      <td>USA</td>\n",
       "      <td>NaN</td>\n",
       "      <td>2:55.4</td>\n",
       "      <td>I</td>\n",
       "      <td>No</td>\n",
       "      <td>2002</td>\n",
       "      <td>1000m</td>\n",
       "    </tr>\n",
       "    <tr>\n",
       "      <th>2</th>\n",
       "      <td>3</td>\n",
       "      <td>Andrew Benko</td>\n",
       "      <td>33</td>\n",
       "      <td>Dubuque, IA</td>\n",
       "      <td>USA</td>\n",
       "      <td>NaN</td>\n",
       "      <td>2:55.7</td>\n",
       "      <td>I</td>\n",
       "      <td>No</td>\n",
       "      <td>2002</td>\n",
       "      <td>1000m</td>\n",
       "    </tr>\n",
       "    <tr>\n",
       "      <th>3</th>\n",
       "      <td>4</td>\n",
       "      <td>John Robinson-White</td>\n",
       "      <td>32</td>\n",
       "      <td>Solihull</td>\n",
       "      <td>GBR</td>\n",
       "      <td>NaN</td>\n",
       "      <td>2:56.8</td>\n",
       "      <td>I</td>\n",
       "      <td>No</td>\n",
       "      <td>2002</td>\n",
       "      <td>1000m</td>\n",
       "    </tr>\n",
       "    <tr>\n",
       "      <th>4</th>\n",
       "      <td>5</td>\n",
       "      <td>Marko Kovalainen</td>\n",
       "      <td>26</td>\n",
       "      <td>Hyvinkää</td>\n",
       "      <td>FIN</td>\n",
       "      <td>NaN</td>\n",
       "      <td>2:56.9</td>\n",
       "      <td>I</td>\n",
       "      <td>No</td>\n",
       "      <td>2002</td>\n",
       "      <td>1000m</td>\n",
       "    </tr>\n",
       "  </tbody>\n",
       "</table>\n",
       "</div>"
      ],
      "text/plain": [
       "   Pos.                 Name  Age     Location Country Club/Affiliation  \\\n",
       "0     1            Chris Roe   24      Warwick     GBR              NaN   \n",
       "1     1          David Brown   38    Sandy, UT     USA              NaN   \n",
       "2     3         Andrew Benko   33  Dubuque, IA     USA              NaN   \n",
       "3     4  John Robinson-White   32     Solihull     GBR              NaN   \n",
       "4     5     Marko Kovalainen   26     Hyvinkää     FIN              NaN   \n",
       "\n",
       "     Time Type Verified  Season   Test  \n",
       "0  2:55.4    I       No    2002  1000m  \n",
       "1  2:55.4    I       No    2002  1000m  \n",
       "2  2:55.7    I       No    2002  1000m  \n",
       "3  2:56.8    I       No    2002  1000m  \n",
       "4  2:56.9    I       No    2002  1000m  "
      ]
     },
     "execution_count": 10,
     "metadata": {},
     "output_type": "execute_result"
    }
   ],
   "source": [
    "#adding the test column to the dataframe and dropping the unneeded column\n",
    "onek_df['Test'] = \"1000m\"\n",
    "onek_df = onek_df.drop(columns=['Unnamed: 0'])\n",
    "onek_df.head()"
   ]
  },
  {
   "cell_type": "code",
   "execution_count": 11,
   "metadata": {},
   "outputs": [
    {
     "data": {
      "text/html": [
       "<div>\n",
       "<style scoped>\n",
       "    .dataframe tbody tr th:only-of-type {\n",
       "        vertical-align: middle;\n",
       "    }\n",
       "\n",
       "    .dataframe tbody tr th {\n",
       "        vertical-align: top;\n",
       "    }\n",
       "\n",
       "    .dataframe thead th {\n",
       "        text-align: right;\n",
       "    }\n",
       "</style>\n",
       "<table border=\"1\" class=\"dataframe\">\n",
       "  <thead>\n",
       "    <tr style=\"text-align: right;\">\n",
       "      <th></th>\n",
       "      <th>Pos.</th>\n",
       "      <th>Name</th>\n",
       "      <th>Age</th>\n",
       "      <th>Location</th>\n",
       "      <th>Country</th>\n",
       "      <th>Club/Affiliation</th>\n",
       "      <th>Time</th>\n",
       "      <th>Type</th>\n",
       "      <th>Verified</th>\n",
       "      <th>Season</th>\n",
       "      <th>Test</th>\n",
       "    </tr>\n",
       "  </thead>\n",
       "  <tbody>\n",
       "    <tr>\n",
       "      <th>0</th>\n",
       "      <td>1</td>\n",
       "      <td>Matthias Siejkowski</td>\n",
       "      <td>37</td>\n",
       "      <td>NaN</td>\n",
       "      <td>GER</td>\n",
       "      <td>NaN</td>\n",
       "      <td>5:37.0</td>\n",
       "      <td>I</td>\n",
       "      <td>Race</td>\n",
       "      <td>2002</td>\n",
       "      <td>2000m</td>\n",
       "    </tr>\n",
       "    <tr>\n",
       "      <th>1</th>\n",
       "      <td>2</td>\n",
       "      <td>Justin Sires</td>\n",
       "      <td>25</td>\n",
       "      <td>Brisbane</td>\n",
       "      <td>AUS</td>\n",
       "      <td>NaN</td>\n",
       "      <td>5:46.7</td>\n",
       "      <td>I</td>\n",
       "      <td>No</td>\n",
       "      <td>2002</td>\n",
       "      <td>2000m</td>\n",
       "    </tr>\n",
       "    <tr>\n",
       "      <th>2</th>\n",
       "      <td>3</td>\n",
       "      <td>Matthew Pinsent</td>\n",
       "      <td>31</td>\n",
       "      <td>NaN</td>\n",
       "      <td>GBR</td>\n",
       "      <td>Leander Club</td>\n",
       "      <td>5:47.5</td>\n",
       "      <td>I</td>\n",
       "      <td>Race</td>\n",
       "      <td>2002</td>\n",
       "      <td>2000m</td>\n",
       "    </tr>\n",
       "    <tr>\n",
       "      <th>3</th>\n",
       "      <td>4</td>\n",
       "      <td>James Cracknell</td>\n",
       "      <td>29</td>\n",
       "      <td>NaN</td>\n",
       "      <td>GBR</td>\n",
       "      <td>Leander Club</td>\n",
       "      <td>5:47.6</td>\n",
       "      <td>I</td>\n",
       "      <td>Race</td>\n",
       "      <td>2002</td>\n",
       "      <td>2000m</td>\n",
       "    </tr>\n",
       "    <tr>\n",
       "      <th>4</th>\n",
       "      <td>5</td>\n",
       "      <td>Chris Grothkopp</td>\n",
       "      <td>22</td>\n",
       "      <td>Princeton, NJ</td>\n",
       "      <td>USA</td>\n",
       "      <td>NaN</td>\n",
       "      <td>5:49.4</td>\n",
       "      <td>I</td>\n",
       "      <td>Race</td>\n",
       "      <td>2002</td>\n",
       "      <td>2000m</td>\n",
       "    </tr>\n",
       "  </tbody>\n",
       "</table>\n",
       "</div>"
      ],
      "text/plain": [
       "   Pos.                 Name  Age       Location Country Club/Affiliation  \\\n",
       "0     1  Matthias Siejkowski   37            NaN     GER              NaN   \n",
       "1     2         Justin Sires   25       Brisbane     AUS              NaN   \n",
       "2     3      Matthew Pinsent   31            NaN     GBR     Leander Club   \n",
       "3     4      James Cracknell   29            NaN     GBR     Leander Club   \n",
       "4     5      Chris Grothkopp   22  Princeton, NJ     USA              NaN   \n",
       "\n",
       "     Time Type Verified  Season   Test  \n",
       "0  5:37.0    I     Race    2002  2000m  \n",
       "1  5:46.7    I       No    2002  2000m  \n",
       "2  5:47.5    I     Race    2002  2000m  \n",
       "3  5:47.6    I     Race    2002  2000m  \n",
       "4  5:49.4    I     Race    2002  2000m  "
      ]
     },
     "execution_count": 11,
     "metadata": {},
     "output_type": "execute_result"
    }
   ],
   "source": [
    "#adding the test column to the dataframe and dropping the unneeded column\n",
    "twok_df['Test'] = \"2000m\"\n",
    "twok_df = twok_df.drop(columns=['Unnamed: 0'])\n",
    "twok_df.head()"
   ]
  },
  {
   "cell_type": "code",
   "execution_count": 12,
   "metadata": {},
   "outputs": [
    {
     "data": {
      "text/html": [
       "<div>\n",
       "<style scoped>\n",
       "    .dataframe tbody tr th:only-of-type {\n",
       "        vertical-align: middle;\n",
       "    }\n",
       "\n",
       "    .dataframe tbody tr th {\n",
       "        vertical-align: top;\n",
       "    }\n",
       "\n",
       "    .dataframe thead th {\n",
       "        text-align: right;\n",
       "    }\n",
       "</style>\n",
       "<table border=\"1\" class=\"dataframe\">\n",
       "  <thead>\n",
       "    <tr style=\"text-align: right;\">\n",
       "      <th></th>\n",
       "      <th>Pos.</th>\n",
       "      <th>Name</th>\n",
       "      <th>Age</th>\n",
       "      <th>Location</th>\n",
       "      <th>Country</th>\n",
       "      <th>Club/Affiliation</th>\n",
       "      <th>Time</th>\n",
       "      <th>Type</th>\n",
       "      <th>Verified</th>\n",
       "      <th>Season</th>\n",
       "      <th>Test</th>\n",
       "    </tr>\n",
       "  </thead>\n",
       "  <tbody>\n",
       "    <tr>\n",
       "      <th>0</th>\n",
       "      <td>1.0</td>\n",
       "      <td>Nik Fleming</td>\n",
       "      <td>33</td>\n",
       "      <td>Milton, Cambridge</td>\n",
       "      <td>GBR</td>\n",
       "      <td>Cambridge Assessment</td>\n",
       "      <td>15:53.1</td>\n",
       "      <td>I</td>\n",
       "      <td>No</td>\n",
       "      <td>2002</td>\n",
       "      <td>5000m</td>\n",
       "    </tr>\n",
       "    <tr>\n",
       "      <th>1</th>\n",
       "      <td>2.0</td>\n",
       "      <td>Tony Larkman</td>\n",
       "      <td>32</td>\n",
       "      <td>Bath</td>\n",
       "      <td>GBR</td>\n",
       "      <td>MAD Team IRC</td>\n",
       "      <td>15:53.6</td>\n",
       "      <td>I</td>\n",
       "      <td>No</td>\n",
       "      <td>2002</td>\n",
       "      <td>5000m</td>\n",
       "    </tr>\n",
       "    <tr>\n",
       "      <th>2</th>\n",
       "      <td>3.0</td>\n",
       "      <td>shane woods</td>\n",
       "      <td>25</td>\n",
       "      <td>belfast</td>\n",
       "      <td>IRL</td>\n",
       "      <td>NaN</td>\n",
       "      <td>16:24.5</td>\n",
       "      <td>I</td>\n",
       "      <td>No</td>\n",
       "      <td>2002</td>\n",
       "      <td>5000m</td>\n",
       "    </tr>\n",
       "    <tr>\n",
       "      <th>3</th>\n",
       "      <td>4.0</td>\n",
       "      <td>Edward Johnson</td>\n",
       "      <td>20</td>\n",
       "      <td>London</td>\n",
       "      <td>GBR</td>\n",
       "      <td>NaN</td>\n",
       "      <td>16:25.6</td>\n",
       "      <td>I</td>\n",
       "      <td>No</td>\n",
       "      <td>2002</td>\n",
       "      <td>5000m</td>\n",
       "    </tr>\n",
       "    <tr>\n",
       "      <th>4</th>\n",
       "      <td>5.0</td>\n",
       "      <td>Alain MORETTO</td>\n",
       "      <td>33</td>\n",
       "      <td>VICHY</td>\n",
       "      <td>FRA</td>\n",
       "      <td>NaN</td>\n",
       "      <td>16:35.0</td>\n",
       "      <td>I</td>\n",
       "      <td>No</td>\n",
       "      <td>2002</td>\n",
       "      <td>5000m</td>\n",
       "    </tr>\n",
       "  </tbody>\n",
       "</table>\n",
       "</div>"
      ],
      "text/plain": [
       "   Pos.            Name  Age           Location Country      Club/Affiliation  \\\n",
       "0   1.0     Nik Fleming   33  Milton, Cambridge     GBR  Cambridge Assessment   \n",
       "1   2.0    Tony Larkman   32               Bath     GBR          MAD Team IRC   \n",
       "2   3.0     shane woods   25            belfast     IRL                   NaN   \n",
       "3   4.0  Edward Johnson   20             London     GBR                   NaN   \n",
       "4   5.0   Alain MORETTO   33              VICHY     FRA                   NaN   \n",
       "\n",
       "      Time Type Verified  Season   Test  \n",
       "0  15:53.1    I       No    2002  5000m  \n",
       "1  15:53.6    I       No    2002  5000m  \n",
       "2  16:24.5    I       No    2002  5000m  \n",
       "3  16:25.6    I       No    2002  5000m  \n",
       "4  16:35.0    I       No    2002  5000m  "
      ]
     },
     "execution_count": 12,
     "metadata": {},
     "output_type": "execute_result"
    }
   ],
   "source": [
    "#adding the test column to the dataframe and dropping the unneeded column\n",
    "fivek_df['Test'] = \"5000m\"\n",
    "fivek_df = fivek_df.drop(columns=['Unnamed: 0'])\n",
    "#fivek_df.astype({'Pos.': 'int64'}).dtypes\n",
    "fivek_df.head()"
   ]
  },
  {
   "cell_type": "code",
   "execution_count": 13,
   "metadata": {},
   "outputs": [
    {
     "name": "stdout",
     "output_type": "stream",
     "text": [
      "<class 'pandas.core.frame.DataFrame'>\n",
      "RangeIndex: 180219 entries, 0 to 180218\n",
      "Data columns (total 11 columns):\n",
      " #   Column            Non-Null Count   Dtype  \n",
      "---  ------            --------------   -----  \n",
      " 0   Pos.              180218 non-null  float64\n",
      " 1   Name              180198 non-null  object \n",
      " 2   Age               180219 non-null  int64  \n",
      " 3   Location          152243 non-null  object \n",
      " 4   Country           180216 non-null  object \n",
      " 5   Club/Affiliation  58330 non-null   object \n",
      " 6   Time              180218 non-null  object \n",
      " 7   Type              180219 non-null  object \n",
      " 8   Verified          180219 non-null  object \n",
      " 9   Season            180219 non-null  int64  \n",
      " 10  Test              180219 non-null  object \n",
      "dtypes: float64(1), int64(2), object(8)\n",
      "memory usage: 15.1+ MB\n"
     ]
    }
   ],
   "source": [
    "fivek_df.info()"
   ]
  },
  {
   "cell_type": "code",
   "execution_count": 14,
   "metadata": {},
   "outputs": [
    {
     "data": {
      "text/html": [
       "<div>\n",
       "<style scoped>\n",
       "    .dataframe tbody tr th:only-of-type {\n",
       "        vertical-align: middle;\n",
       "    }\n",
       "\n",
       "    .dataframe tbody tr th {\n",
       "        vertical-align: top;\n",
       "    }\n",
       "\n",
       "    .dataframe thead th {\n",
       "        text-align: right;\n",
       "    }\n",
       "</style>\n",
       "<table border=\"1\" class=\"dataframe\">\n",
       "  <thead>\n",
       "    <tr style=\"text-align: right;\">\n",
       "      <th></th>\n",
       "      <th>Pos.</th>\n",
       "      <th>Name</th>\n",
       "      <th>Age</th>\n",
       "      <th>Location</th>\n",
       "      <th>Country</th>\n",
       "      <th>Club/Affiliation</th>\n",
       "      <th>Time</th>\n",
       "      <th>Type</th>\n",
       "      <th>Verified</th>\n",
       "      <th>Season</th>\n",
       "      <th>Test</th>\n",
       "    </tr>\n",
       "  </thead>\n",
       "  <tbody>\n",
       "    <tr>\n",
       "      <th>0</th>\n",
       "      <td>1</td>\n",
       "      <td>Craig Law</td>\n",
       "      <td>29</td>\n",
       "      <td>Ottawa, ON</td>\n",
       "      <td>CAN</td>\n",
       "      <td>NaN</td>\n",
       "      <td>19:08.8</td>\n",
       "      <td>I</td>\n",
       "      <td>No</td>\n",
       "      <td>2002</td>\n",
       "      <td>6000m</td>\n",
       "    </tr>\n",
       "    <tr>\n",
       "      <th>1</th>\n",
       "      <td>2</td>\n",
       "      <td>Brett Newlin</td>\n",
       "      <td>19</td>\n",
       "      <td>Seattle, WA</td>\n",
       "      <td>USA</td>\n",
       "      <td>University of Washington</td>\n",
       "      <td>19:31.1</td>\n",
       "      <td>I</td>\n",
       "      <td>No</td>\n",
       "      <td>2002</td>\n",
       "      <td>6000m</td>\n",
       "    </tr>\n",
       "    <tr>\n",
       "      <th>2</th>\n",
       "      <td>3</td>\n",
       "      <td>Ben Rutledge</td>\n",
       "      <td>21</td>\n",
       "      <td>Vancouver, BC</td>\n",
       "      <td>CAN</td>\n",
       "      <td>University of British Columbia</td>\n",
       "      <td>19:34.2</td>\n",
       "      <td>I</td>\n",
       "      <td>No</td>\n",
       "      <td>2002</td>\n",
       "      <td>6000m</td>\n",
       "    </tr>\n",
       "    <tr>\n",
       "      <th>3</th>\n",
       "      <td>4</td>\n",
       "      <td>Kevin Burt</td>\n",
       "      <td>27</td>\n",
       "      <td>Ottawa, ON</td>\n",
       "      <td>CAN</td>\n",
       "      <td>NaN</td>\n",
       "      <td>19:34.5</td>\n",
       "      <td>I</td>\n",
       "      <td>No</td>\n",
       "      <td>2002</td>\n",
       "      <td>6000m</td>\n",
       "    </tr>\n",
       "    <tr>\n",
       "      <th>4</th>\n",
       "      <td>5</td>\n",
       "      <td>greg cobb</td>\n",
       "      <td>20</td>\n",
       "      <td>philadelphia, PA</td>\n",
       "      <td>USA</td>\n",
       "      <td>NaN</td>\n",
       "      <td>19:45.0</td>\n",
       "      <td>I</td>\n",
       "      <td>No</td>\n",
       "      <td>2002</td>\n",
       "      <td>6000m</td>\n",
       "    </tr>\n",
       "  </tbody>\n",
       "</table>\n",
       "</div>"
      ],
      "text/plain": [
       "   Pos.          Name  Age          Location Country  \\\n",
       "0     1     Craig Law   29        Ottawa, ON     CAN   \n",
       "1     2  Brett Newlin   19       Seattle, WA     USA   \n",
       "2     3  Ben Rutledge   21     Vancouver, BC     CAN   \n",
       "3     4    Kevin Burt   27        Ottawa, ON     CAN   \n",
       "4     5     greg cobb   20  philadelphia, PA     USA   \n",
       "\n",
       "                 Club/Affiliation     Time Type Verified  Season   Test  \n",
       "0                             NaN  19:08.8    I       No    2002  6000m  \n",
       "1        University of Washington  19:31.1    I       No    2002  6000m  \n",
       "2  University of British Columbia  19:34.2    I       No    2002  6000m  \n",
       "3                             NaN  19:34.5    I       No    2002  6000m  \n",
       "4                             NaN  19:45.0    I       No    2002  6000m  "
      ]
     },
     "execution_count": 14,
     "metadata": {},
     "output_type": "execute_result"
    }
   ],
   "source": [
    "#adding the test column to the dataframe and dropping the unneeded column\n",
    "sixk_df['Test'] = \"6000m\"\n",
    "sixk_df = sixk_df.drop(columns=['Unnamed: 0'])\n",
    "sixk_df.head()"
   ]
  },
  {
   "cell_type": "code",
   "execution_count": 15,
   "metadata": {},
   "outputs": [
    {
     "name": "stdout",
     "output_type": "stream",
     "text": [
      "<class 'pandas.core.frame.DataFrame'>\n",
      "RangeIndex: 63772 entries, 0 to 63771\n",
      "Data columns (total 11 columns):\n",
      " #   Column            Non-Null Count  Dtype \n",
      "---  ------            --------------  ----- \n",
      " 0   Pos.              63772 non-null  int64 \n",
      " 1   Name              63764 non-null  object\n",
      " 2   Age               63772 non-null  int64 \n",
      " 3   Location          56364 non-null  object\n",
      " 4   Country           63769 non-null  object\n",
      " 5   Club/Affiliation  28836 non-null  object\n",
      " 6   Time              63772 non-null  object\n",
      " 7   Type              63772 non-null  object\n",
      " 8   Verified          63772 non-null  object\n",
      " 9   Season            63772 non-null  int64 \n",
      " 10  Test              63772 non-null  object\n",
      "dtypes: int64(3), object(8)\n",
      "memory usage: 5.4+ MB\n"
     ]
    }
   ],
   "source": [
    "sixk_df.info()"
   ]
  },
  {
   "cell_type": "code",
   "execution_count": 16,
   "metadata": {},
   "outputs": [
    {
     "data": {
      "text/html": [
       "<div>\n",
       "<style scoped>\n",
       "    .dataframe tbody tr th:only-of-type {\n",
       "        vertical-align: middle;\n",
       "    }\n",
       "\n",
       "    .dataframe tbody tr th {\n",
       "        vertical-align: top;\n",
       "    }\n",
       "\n",
       "    .dataframe thead th {\n",
       "        text-align: right;\n",
       "    }\n",
       "</style>\n",
       "<table border=\"1\" class=\"dataframe\">\n",
       "  <thead>\n",
       "    <tr style=\"text-align: right;\">\n",
       "      <th></th>\n",
       "      <th>Pos.</th>\n",
       "      <th>Name</th>\n",
       "      <th>Age</th>\n",
       "      <th>Location</th>\n",
       "      <th>Country</th>\n",
       "      <th>Club/Affiliation</th>\n",
       "      <th>Time</th>\n",
       "      <th>Type</th>\n",
       "      <th>Verified</th>\n",
       "      <th>Season</th>\n",
       "      <th>Test</th>\n",
       "    </tr>\n",
       "  </thead>\n",
       "  <tbody>\n",
       "    <tr>\n",
       "      <th>0</th>\n",
       "      <td>1</td>\n",
       "      <td>Tony Larkman</td>\n",
       "      <td>32</td>\n",
       "      <td>Bath</td>\n",
       "      <td>GBR</td>\n",
       "      <td>MAD Team IRC</td>\n",
       "      <td>33:10.6</td>\n",
       "      <td>I</td>\n",
       "      <td>No</td>\n",
       "      <td>2002</td>\n",
       "      <td>10000m</td>\n",
       "    </tr>\n",
       "    <tr>\n",
       "      <th>1</th>\n",
       "      <td>2</td>\n",
       "      <td>Nik Fleming</td>\n",
       "      <td>33</td>\n",
       "      <td>Milton, Cambridge</td>\n",
       "      <td>GBR</td>\n",
       "      <td>Cambridge Assessment</td>\n",
       "      <td>33:11.4</td>\n",
       "      <td>I</td>\n",
       "      <td>No</td>\n",
       "      <td>2002</td>\n",
       "      <td>10000m</td>\n",
       "    </tr>\n",
       "    <tr>\n",
       "      <th>2</th>\n",
       "      <td>3</td>\n",
       "      <td>Troy Kepper</td>\n",
       "      <td>19</td>\n",
       "      <td>Tallahassee, FL</td>\n",
       "      <td>USA</td>\n",
       "      <td>NaN</td>\n",
       "      <td>33:53.9</td>\n",
       "      <td>I</td>\n",
       "      <td>No</td>\n",
       "      <td>2002</td>\n",
       "      <td>10000m</td>\n",
       "    </tr>\n",
       "    <tr>\n",
       "      <th>3</th>\n",
       "      <td>4</td>\n",
       "      <td>Heikki Tukonen</td>\n",
       "      <td>40</td>\n",
       "      <td>Stockholm</td>\n",
       "      <td>SWE</td>\n",
       "      <td>NaN</td>\n",
       "      <td>33:57.6</td>\n",
       "      <td>I</td>\n",
       "      <td>No</td>\n",
       "      <td>2002</td>\n",
       "      <td>10000m</td>\n",
       "    </tr>\n",
       "    <tr>\n",
       "      <th>4</th>\n",
       "      <td>5</td>\n",
       "      <td>Dwayne K. Adams</td>\n",
       "      <td>37</td>\n",
       "      <td>Phoenix, AZ</td>\n",
       "      <td>USA</td>\n",
       "      <td>Free Spirits</td>\n",
       "      <td>33:58.0</td>\n",
       "      <td>I</td>\n",
       "      <td>No</td>\n",
       "      <td>2002</td>\n",
       "      <td>10000m</td>\n",
       "    </tr>\n",
       "  </tbody>\n",
       "</table>\n",
       "</div>"
      ],
      "text/plain": [
       "   Pos.             Name  Age           Location Country  \\\n",
       "0     1     Tony Larkman   32               Bath     GBR   \n",
       "1     2      Nik Fleming   33  Milton, Cambridge     GBR   \n",
       "2     3      Troy Kepper   19    Tallahassee, FL     USA   \n",
       "3     4   Heikki Tukonen   40          Stockholm     SWE   \n",
       "4     5  Dwayne K. Adams   37        Phoenix, AZ     USA   \n",
       "\n",
       "       Club/Affiliation     Time Type Verified  Season    Test  \n",
       "0          MAD Team IRC  33:10.6    I       No    2002  10000m  \n",
       "1  Cambridge Assessment  33:11.4    I       No    2002  10000m  \n",
       "2                   NaN  33:53.9    I       No    2002  10000m  \n",
       "3                   NaN  33:57.6    I       No    2002  10000m  \n",
       "4          Free Spirits  33:58.0    I       No    2002  10000m  "
      ]
     },
     "execution_count": 16,
     "metadata": {},
     "output_type": "execute_result"
    }
   ],
   "source": [
    "#adding the test column to the dataframe and dropping the unneeded column\n",
    "tenk_df['Test'] = \"10000m\"\n",
    "tenk_df = tenk_df.drop(columns=['Unnamed: 0'])\n",
    "tenk_df.head()"
   ]
  },
  {
   "cell_type": "code",
   "execution_count": 17,
   "metadata": {},
   "outputs": [
    {
     "data": {
      "text/html": [
       "<div>\n",
       "<style scoped>\n",
       "    .dataframe tbody tr th:only-of-type {\n",
       "        vertical-align: middle;\n",
       "    }\n",
       "\n",
       "    .dataframe tbody tr th {\n",
       "        vertical-align: top;\n",
       "    }\n",
       "\n",
       "    .dataframe thead th {\n",
       "        text-align: right;\n",
       "    }\n",
       "</style>\n",
       "<table border=\"1\" class=\"dataframe\">\n",
       "  <thead>\n",
       "    <tr style=\"text-align: right;\">\n",
       "      <th></th>\n",
       "      <th>Pos.</th>\n",
       "      <th>Name</th>\n",
       "      <th>Age</th>\n",
       "      <th>Location</th>\n",
       "      <th>Country</th>\n",
       "      <th>Club/Affiliation</th>\n",
       "      <th>Time</th>\n",
       "      <th>Type</th>\n",
       "      <th>Verified</th>\n",
       "      <th>Season</th>\n",
       "      <th>Test</th>\n",
       "    </tr>\n",
       "  </thead>\n",
       "  <tbody>\n",
       "    <tr>\n",
       "      <th>0</th>\n",
       "      <td>1</td>\n",
       "      <td>Nik Fleming</td>\n",
       "      <td>33</td>\n",
       "      <td>Milton, Cambridge</td>\n",
       "      <td>GBR</td>\n",
       "      <td>Cambridge Assessment</td>\n",
       "      <td>1:13:38.5</td>\n",
       "      <td>I</td>\n",
       "      <td>No</td>\n",
       "      <td>2002</td>\n",
       "      <td>21097m</td>\n",
       "    </tr>\n",
       "    <tr>\n",
       "      <th>1</th>\n",
       "      <td>2</td>\n",
       "      <td>rod freed</td>\n",
       "      <td>52</td>\n",
       "      <td>mission viejo, CA</td>\n",
       "      <td>USA</td>\n",
       "      <td>NaN</td>\n",
       "      <td>1:14:26.3</td>\n",
       "      <td>I</td>\n",
       "      <td>No</td>\n",
       "      <td>2002</td>\n",
       "      <td>21097m</td>\n",
       "    </tr>\n",
       "    <tr>\n",
       "      <th>2</th>\n",
       "      <td>3</td>\n",
       "      <td>Mark Sutro</td>\n",
       "      <td>46</td>\n",
       "      <td>Oakland, CA</td>\n",
       "      <td>USA</td>\n",
       "      <td>NaN</td>\n",
       "      <td>1:15:16.0</td>\n",
       "      <td>I</td>\n",
       "      <td>No</td>\n",
       "      <td>2002</td>\n",
       "      <td>21097m</td>\n",
       "    </tr>\n",
       "    <tr>\n",
       "      <th>3</th>\n",
       "      <td>4</td>\n",
       "      <td>David Brown</td>\n",
       "      <td>37</td>\n",
       "      <td>Sandy, UT</td>\n",
       "      <td>USA</td>\n",
       "      <td>NaN</td>\n",
       "      <td>1:15:34.6</td>\n",
       "      <td>I</td>\n",
       "      <td>No</td>\n",
       "      <td>2002</td>\n",
       "      <td>21097m</td>\n",
       "    </tr>\n",
       "    <tr>\n",
       "      <th>4</th>\n",
       "      <td>5</td>\n",
       "      <td>Tom Carpenter</td>\n",
       "      <td>42</td>\n",
       "      <td>Kingston, ON</td>\n",
       "      <td>CAN</td>\n",
       "      <td>NaN</td>\n",
       "      <td>1:15:37.0</td>\n",
       "      <td>I</td>\n",
       "      <td>No</td>\n",
       "      <td>2002</td>\n",
       "      <td>21097m</td>\n",
       "    </tr>\n",
       "  </tbody>\n",
       "</table>\n",
       "</div>"
      ],
      "text/plain": [
       "   Pos.           Name  Age           Location Country      Club/Affiliation  \\\n",
       "0     1    Nik Fleming   33  Milton, Cambridge     GBR  Cambridge Assessment   \n",
       "1     2      rod freed   52  mission viejo, CA     USA                   NaN   \n",
       "2     3     Mark Sutro   46        Oakland, CA     USA                   NaN   \n",
       "3     4    David Brown   37          Sandy, UT     USA                   NaN   \n",
       "4     5  Tom Carpenter   42       Kingston, ON     CAN                   NaN   \n",
       "\n",
       "        Time Type Verified  Season    Test  \n",
       "0  1:13:38.5    I       No    2002  21097m  \n",
       "1  1:14:26.3    I       No    2002  21097m  \n",
       "2  1:15:16.0    I       No    2002  21097m  \n",
       "3  1:15:34.6    I       No    2002  21097m  \n",
       "4  1:15:37.0    I       No    2002  21097m  "
      ]
     },
     "execution_count": 17,
     "metadata": {},
     "output_type": "execute_result"
    }
   ],
   "source": [
    "#adding the test column to the dataframe and dropping the unneeded column\n",
    "halfmarathon_df['Test'] = \"21097m\"\n",
    "halfmarathon_df = halfmarathon_df.drop(columns=['Unnamed: 0'])\n",
    "halfmarathon_df.head()"
   ]
  },
  {
   "cell_type": "code",
   "execution_count": 18,
   "metadata": {},
   "outputs": [
    {
     "data": {
      "text/html": [
       "<div>\n",
       "<style scoped>\n",
       "    .dataframe tbody tr th:only-of-type {\n",
       "        vertical-align: middle;\n",
       "    }\n",
       "\n",
       "    .dataframe tbody tr th {\n",
       "        vertical-align: top;\n",
       "    }\n",
       "\n",
       "    .dataframe thead th {\n",
       "        text-align: right;\n",
       "    }\n",
       "</style>\n",
       "<table border=\"1\" class=\"dataframe\">\n",
       "  <thead>\n",
       "    <tr style=\"text-align: right;\">\n",
       "      <th></th>\n",
       "      <th>Pos.</th>\n",
       "      <th>Name</th>\n",
       "      <th>Age</th>\n",
       "      <th>Location</th>\n",
       "      <th>Country</th>\n",
       "      <th>Club/Affiliation</th>\n",
       "      <th>Time</th>\n",
       "      <th>Type</th>\n",
       "      <th>Verified</th>\n",
       "      <th>Season</th>\n",
       "      <th>Test</th>\n",
       "    </tr>\n",
       "  </thead>\n",
       "  <tbody>\n",
       "    <tr>\n",
       "      <th>0</th>\n",
       "      <td>1</td>\n",
       "      <td>Dwayne K. Adams</td>\n",
       "      <td>37</td>\n",
       "      <td>Phoenix, AZ</td>\n",
       "      <td>USA</td>\n",
       "      <td>Free Spirits</td>\n",
       "      <td>2:33:17.5</td>\n",
       "      <td>I</td>\n",
       "      <td>No</td>\n",
       "      <td>2002</td>\n",
       "      <td>42195m</td>\n",
       "    </tr>\n",
       "    <tr>\n",
       "      <th>1</th>\n",
       "      <td>2</td>\n",
       "      <td>Ed Golding</td>\n",
       "      <td>22</td>\n",
       "      <td>Dallas, TX</td>\n",
       "      <td>USA</td>\n",
       "      <td>NaN</td>\n",
       "      <td>2:33:24.3</td>\n",
       "      <td>I</td>\n",
       "      <td>No</td>\n",
       "      <td>2002</td>\n",
       "      <td>42195m</td>\n",
       "    </tr>\n",
       "    <tr>\n",
       "      <th>2</th>\n",
       "      <td>3</td>\n",
       "      <td>Gregory Myhr</td>\n",
       "      <td>31</td>\n",
       "      <td>Madison, WI</td>\n",
       "      <td>USA</td>\n",
       "      <td>NaN</td>\n",
       "      <td>2:34:43.9</td>\n",
       "      <td>I</td>\n",
       "      <td>No</td>\n",
       "      <td>2002</td>\n",
       "      <td>42195m</td>\n",
       "    </tr>\n",
       "    <tr>\n",
       "      <th>3</th>\n",
       "      <td>4</td>\n",
       "      <td>Paul Flack</td>\n",
       "      <td>45</td>\n",
       "      <td>Annapolis, MD</td>\n",
       "      <td>USA</td>\n",
       "      <td>Annapolis Rowing Club</td>\n",
       "      <td>2:35:57.7</td>\n",
       "      <td>I</td>\n",
       "      <td>No</td>\n",
       "      <td>2002</td>\n",
       "      <td>42195m</td>\n",
       "    </tr>\n",
       "    <tr>\n",
       "      <th>4</th>\n",
       "      <td>5</td>\n",
       "      <td>Chris Flanagan</td>\n",
       "      <td>26</td>\n",
       "      <td>Christchurch</td>\n",
       "      <td>NZL</td>\n",
       "      <td>NaN</td>\n",
       "      <td>2:37:31.9</td>\n",
       "      <td>I</td>\n",
       "      <td>No</td>\n",
       "      <td>2002</td>\n",
       "      <td>42195m</td>\n",
       "    </tr>\n",
       "  </tbody>\n",
       "</table>\n",
       "</div>"
      ],
      "text/plain": [
       "   Pos.             Name  Age       Location Country       Club/Affiliation  \\\n",
       "0     1  Dwayne K. Adams   37    Phoenix, AZ     USA           Free Spirits   \n",
       "1     2       Ed Golding   22     Dallas, TX     USA                    NaN   \n",
       "2     3     Gregory Myhr   31    Madison, WI     USA                    NaN   \n",
       "3     4       Paul Flack   45  Annapolis, MD     USA  Annapolis Rowing Club   \n",
       "4     5   Chris Flanagan   26   Christchurch     NZL                    NaN   \n",
       "\n",
       "        Time Type Verified  Season    Test  \n",
       "0  2:33:17.5    I       No    2002  42195m  \n",
       "1  2:33:24.3    I       No    2002  42195m  \n",
       "2  2:34:43.9    I       No    2002  42195m  \n",
       "3  2:35:57.7    I       No    2002  42195m  \n",
       "4  2:37:31.9    I       No    2002  42195m  "
      ]
     },
     "execution_count": 18,
     "metadata": {},
     "output_type": "execute_result"
    }
   ],
   "source": [
    "#adding the test column to the dataframe and dropping the unneeded column\n",
    "marathon_df['Test'] = \"42195m\"\n",
    "marathon_df = marathon_df.drop(columns=['Unnamed: 0'])\n",
    "marathon_df.head()"
   ]
  },
  {
   "cell_type": "code",
   "execution_count": 21,
   "metadata": {},
   "outputs": [],
   "source": [
    "combined_df = onemin_df.append([fourmin_df, thirtymin_df, sixtymin_df, onehun_df, fivehun_df, onek_df, twok_df, fivek_df, sixk_df, tenk_df, halfmarathon_df, marathon_df], ignore_index = True)"
   ]
  },
  {
   "cell_type": "code",
   "execution_count": 23,
   "metadata": {},
   "outputs": [
    {
     "data": {
      "text/html": [
       "<div>\n",
       "<style scoped>\n",
       "    .dataframe tbody tr th:only-of-type {\n",
       "        vertical-align: middle;\n",
       "    }\n",
       "\n",
       "    .dataframe tbody tr th {\n",
       "        vertical-align: top;\n",
       "    }\n",
       "\n",
       "    .dataframe thead th {\n",
       "        text-align: right;\n",
       "    }\n",
       "</style>\n",
       "<table border=\"1\" class=\"dataframe\">\n",
       "  <thead>\n",
       "    <tr style=\"text-align: right;\">\n",
       "      <th></th>\n",
       "      <th>Pos.</th>\n",
       "      <th>Name</th>\n",
       "      <th>Age</th>\n",
       "      <th>Location</th>\n",
       "      <th>Country</th>\n",
       "      <th>Club/Affiliation</th>\n",
       "      <th>Distance</th>\n",
       "      <th>Type</th>\n",
       "      <th>Verified</th>\n",
       "      <th>Season</th>\n",
       "      <th>Test</th>\n",
       "      <th>Time</th>\n",
       "    </tr>\n",
       "  </thead>\n",
       "  <tbody>\n",
       "    <tr>\n",
       "      <th>0</th>\n",
       "      <td>1.0</td>\n",
       "      <td>Ross Love</td>\n",
       "      <td>31</td>\n",
       "      <td>Friendswood, TX</td>\n",
       "      <td>USA</td>\n",
       "      <td>NaN</td>\n",
       "      <td>422.0</td>\n",
       "      <td>I</td>\n",
       "      <td>Yes</td>\n",
       "      <td>2016</td>\n",
       "      <td>1 Minute</td>\n",
       "      <td>NaN</td>\n",
       "    </tr>\n",
       "    <tr>\n",
       "      <th>1</th>\n",
       "      <td>2.0</td>\n",
       "      <td>Mike Reilly</td>\n",
       "      <td>23</td>\n",
       "      <td>Varsity House, NJ</td>\n",
       "      <td>USA</td>\n",
       "      <td>NaN</td>\n",
       "      <td>407.0</td>\n",
       "      <td>I</td>\n",
       "      <td>Yes</td>\n",
       "      <td>2016</td>\n",
       "      <td>1 Minute</td>\n",
       "      <td>NaN</td>\n",
       "    </tr>\n",
       "    <tr>\n",
       "      <th>2</th>\n",
       "      <td>3.0</td>\n",
       "      <td>Luke Wollenschlaeger</td>\n",
       "      <td>43</td>\n",
       "      <td>Cape Town</td>\n",
       "      <td>RSA</td>\n",
       "      <td>Paddy Power IRC</td>\n",
       "      <td>405.0</td>\n",
       "      <td>I</td>\n",
       "      <td>Yes</td>\n",
       "      <td>2016</td>\n",
       "      <td>1 Minute</td>\n",
       "      <td>NaN</td>\n",
       "    </tr>\n",
       "    <tr>\n",
       "      <th>3</th>\n",
       "      <td>4.0</td>\n",
       "      <td>Flavio Garrisi</td>\n",
       "      <td>20</td>\n",
       "      <td>Delft</td>\n",
       "      <td>NED</td>\n",
       "      <td>NaN</td>\n",
       "      <td>403.0</td>\n",
       "      <td>I</td>\n",
       "      <td>No</td>\n",
       "      <td>2016</td>\n",
       "      <td>1 Minute</td>\n",
       "      <td>NaN</td>\n",
       "    </tr>\n",
       "    <tr>\n",
       "      <th>4</th>\n",
       "      <td>5.0</td>\n",
       "      <td>Jack Anderson</td>\n",
       "      <td>28</td>\n",
       "      <td>St. Louis, MO</td>\n",
       "      <td>USA</td>\n",
       "      <td>Project Deliverance, St. Louis, Missouri</td>\n",
       "      <td>398.0</td>\n",
       "      <td>I</td>\n",
       "      <td>Yes</td>\n",
       "      <td>2016</td>\n",
       "      <td>1 Minute</td>\n",
       "      <td>NaN</td>\n",
       "    </tr>\n",
       "  </tbody>\n",
       "</table>\n",
       "</div>"
      ],
      "text/plain": [
       "   Pos.                  Name  Age           Location Country  \\\n",
       "0   1.0             Ross Love   31    Friendswood, TX     USA   \n",
       "1   2.0           Mike Reilly   23  Varsity House, NJ     USA   \n",
       "2   3.0  Luke Wollenschlaeger   43          Cape Town     RSA   \n",
       "3   4.0        Flavio Garrisi   20              Delft     NED   \n",
       "4   5.0         Jack Anderson   28      St. Louis, MO     USA   \n",
       "\n",
       "                           Club/Affiliation  Distance Type Verified  Season  \\\n",
       "0                                       NaN     422.0    I      Yes    2016   \n",
       "1                                       NaN     407.0    I      Yes    2016   \n",
       "2                           Paddy Power IRC     405.0    I      Yes    2016   \n",
       "3                                       NaN     403.0    I       No    2016   \n",
       "4  Project Deliverance, St. Louis, Missouri     398.0    I      Yes    2016   \n",
       "\n",
       "       Test Time  \n",
       "0  1 Minute  NaN  \n",
       "1  1 Minute  NaN  \n",
       "2  1 Minute  NaN  \n",
       "3  1 Minute  NaN  \n",
       "4  1 Minute  NaN  "
      ]
     },
     "execution_count": 23,
     "metadata": {},
     "output_type": "execute_result"
    }
   ],
   "source": [
    "combined_df.head()"
   ]
  },
  {
   "cell_type": "code",
   "execution_count": 48,
   "metadata": {},
   "outputs": [],
   "source": [
    "test_counts = combined_df['Test'].value_counts()\n",
    "test_counts = test_counts.to_frame(name = \"Count\")"
   ]
  },
  {
   "cell_type": "code",
   "execution_count": 49,
   "metadata": {},
   "outputs": [],
   "source": [
    "test_counts = test_counts.reset_index()\n",
    "test_counts = test_counts.rename(columns={\"index\": \"Test Name\"})"
   ]
  },
  {
   "cell_type": "code",
   "execution_count": 50,
   "metadata": {},
   "outputs": [
    {
     "data": {
      "text/html": [
       "<div>\n",
       "<style scoped>\n",
       "    .dataframe tbody tr th:only-of-type {\n",
       "        vertical-align: middle;\n",
       "    }\n",
       "\n",
       "    .dataframe tbody tr th {\n",
       "        vertical-align: top;\n",
       "    }\n",
       "\n",
       "    .dataframe thead th {\n",
       "        text-align: right;\n",
       "    }\n",
       "</style>\n",
       "<table border=\"1\" class=\"dataframe\">\n",
       "  <thead>\n",
       "    <tr style=\"text-align: right;\">\n",
       "      <th></th>\n",
       "      <th>Test Name</th>\n",
       "      <th>Count</th>\n",
       "    </tr>\n",
       "  </thead>\n",
       "  <tbody>\n",
       "    <tr>\n",
       "      <th>0</th>\n",
       "      <td>2000m</td>\n",
       "      <td>275427</td>\n",
       "    </tr>\n",
       "    <tr>\n",
       "      <th>1</th>\n",
       "      <td>5000m</td>\n",
       "      <td>180219</td>\n",
       "    </tr>\n",
       "    <tr>\n",
       "      <th>2</th>\n",
       "      <td>10000m</td>\n",
       "      <td>130151</td>\n",
       "    </tr>\n",
       "    <tr>\n",
       "      <th>3</th>\n",
       "      <td>30 Minute</td>\n",
       "      <td>119037</td>\n",
       "    </tr>\n",
       "    <tr>\n",
       "      <th>4</th>\n",
       "      <td>1000m</td>\n",
       "      <td>111628</td>\n",
       "    </tr>\n",
       "    <tr>\n",
       "      <th>5</th>\n",
       "      <td>500m</td>\n",
       "      <td>100696</td>\n",
       "    </tr>\n",
       "    <tr>\n",
       "      <th>6</th>\n",
       "      <td>6000m</td>\n",
       "      <td>63772</td>\n",
       "    </tr>\n",
       "    <tr>\n",
       "      <th>7</th>\n",
       "      <td>60 Minute</td>\n",
       "      <td>56192</td>\n",
       "    </tr>\n",
       "    <tr>\n",
       "      <th>8</th>\n",
       "      <td>21097m</td>\n",
       "      <td>43126</td>\n",
       "    </tr>\n",
       "    <tr>\n",
       "      <th>9</th>\n",
       "      <td>4 Minute</td>\n",
       "      <td>27370</td>\n",
       "    </tr>\n",
       "    <tr>\n",
       "      <th>10</th>\n",
       "      <td>100m</td>\n",
       "      <td>17505</td>\n",
       "    </tr>\n",
       "    <tr>\n",
       "      <th>11</th>\n",
       "      <td>1 Minute</td>\n",
       "      <td>16572</td>\n",
       "    </tr>\n",
       "    <tr>\n",
       "      <th>12</th>\n",
       "      <td>42195m</td>\n",
       "      <td>13332</td>\n",
       "    </tr>\n",
       "  </tbody>\n",
       "</table>\n",
       "</div>"
      ],
      "text/plain": [
       "    Test Name   Count\n",
       "0       2000m  275427\n",
       "1       5000m  180219\n",
       "2      10000m  130151\n",
       "3   30 Minute  119037\n",
       "4       1000m  111628\n",
       "5        500m  100696\n",
       "6       6000m   63772\n",
       "7   60 Minute   56192\n",
       "8      21097m   43126\n",
       "9    4 Minute   27370\n",
       "10       100m   17505\n",
       "11   1 Minute   16572\n",
       "12     42195m   13332"
      ]
     },
     "execution_count": 50,
     "metadata": {},
     "output_type": "execute_result"
    }
   ],
   "source": [
    "test_counts"
   ]
  },
  {
   "cell_type": "code",
   "execution_count": 54,
   "metadata": {},
   "outputs": [
    {
     "data": {
      "application/vnd.plotly.v1+json": {
       "config": {
        "plotlyServerURL": "https://plot.ly"
       },
       "data": [
        {
         "alignmentgroup": "True",
         "hovertemplate": "Test Name=%{x}<br>Count=%{y}<extra></extra>",
         "legendgroup": "",
         "marker": {
          "color": "#636efa"
         },
         "name": "",
         "offsetgroup": "",
         "orientation": "v",
         "showlegend": false,
         "textposition": "auto",
         "type": "bar",
         "x": [
          "2000m",
          "5000m",
          "10000m",
          "30 Minute",
          "1000m",
          "500m",
          "6000m",
          "60 Minute",
          "21097m",
          "4 Minute",
          "100m",
          "1 Minute",
          "42195m"
         ],
         "xaxis": "x",
         "y": [
          275427,
          180219,
          130151,
          119037,
          111628,
          100696,
          63772,
          56192,
          43126,
          27370,
          17505,
          16572,
          13332
         ],
         "yaxis": "y"
        }
       ],
       "layout": {
        "barmode": "relative",
        "legend": {
         "tracegroupgap": 0
        },
        "margin": {
         "t": 60
        },
        "template": {
         "data": {
          "bar": [
           {
            "error_x": {
             "color": "#2a3f5f"
            },
            "error_y": {
             "color": "#2a3f5f"
            },
            "marker": {
             "line": {
              "color": "#E5ECF6",
              "width": 0.5
             }
            },
            "type": "bar"
           }
          ],
          "barpolar": [
           {
            "marker": {
             "line": {
              "color": "#E5ECF6",
              "width": 0.5
             }
            },
            "type": "barpolar"
           }
          ],
          "carpet": [
           {
            "aaxis": {
             "endlinecolor": "#2a3f5f",
             "gridcolor": "white",
             "linecolor": "white",
             "minorgridcolor": "white",
             "startlinecolor": "#2a3f5f"
            },
            "baxis": {
             "endlinecolor": "#2a3f5f",
             "gridcolor": "white",
             "linecolor": "white",
             "minorgridcolor": "white",
             "startlinecolor": "#2a3f5f"
            },
            "type": "carpet"
           }
          ],
          "choropleth": [
           {
            "colorbar": {
             "outlinewidth": 0,
             "ticks": ""
            },
            "type": "choropleth"
           }
          ],
          "contour": [
           {
            "colorbar": {
             "outlinewidth": 0,
             "ticks": ""
            },
            "colorscale": [
             [
              0,
              "#0d0887"
             ],
             [
              0.1111111111111111,
              "#46039f"
             ],
             [
              0.2222222222222222,
              "#7201a8"
             ],
             [
              0.3333333333333333,
              "#9c179e"
             ],
             [
              0.4444444444444444,
              "#bd3786"
             ],
             [
              0.5555555555555556,
              "#d8576b"
             ],
             [
              0.6666666666666666,
              "#ed7953"
             ],
             [
              0.7777777777777778,
              "#fb9f3a"
             ],
             [
              0.8888888888888888,
              "#fdca26"
             ],
             [
              1,
              "#f0f921"
             ]
            ],
            "type": "contour"
           }
          ],
          "contourcarpet": [
           {
            "colorbar": {
             "outlinewidth": 0,
             "ticks": ""
            },
            "type": "contourcarpet"
           }
          ],
          "heatmap": [
           {
            "colorbar": {
             "outlinewidth": 0,
             "ticks": ""
            },
            "colorscale": [
             [
              0,
              "#0d0887"
             ],
             [
              0.1111111111111111,
              "#46039f"
             ],
             [
              0.2222222222222222,
              "#7201a8"
             ],
             [
              0.3333333333333333,
              "#9c179e"
             ],
             [
              0.4444444444444444,
              "#bd3786"
             ],
             [
              0.5555555555555556,
              "#d8576b"
             ],
             [
              0.6666666666666666,
              "#ed7953"
             ],
             [
              0.7777777777777778,
              "#fb9f3a"
             ],
             [
              0.8888888888888888,
              "#fdca26"
             ],
             [
              1,
              "#f0f921"
             ]
            ],
            "type": "heatmap"
           }
          ],
          "heatmapgl": [
           {
            "colorbar": {
             "outlinewidth": 0,
             "ticks": ""
            },
            "colorscale": [
             [
              0,
              "#0d0887"
             ],
             [
              0.1111111111111111,
              "#46039f"
             ],
             [
              0.2222222222222222,
              "#7201a8"
             ],
             [
              0.3333333333333333,
              "#9c179e"
             ],
             [
              0.4444444444444444,
              "#bd3786"
             ],
             [
              0.5555555555555556,
              "#d8576b"
             ],
             [
              0.6666666666666666,
              "#ed7953"
             ],
             [
              0.7777777777777778,
              "#fb9f3a"
             ],
             [
              0.8888888888888888,
              "#fdca26"
             ],
             [
              1,
              "#f0f921"
             ]
            ],
            "type": "heatmapgl"
           }
          ],
          "histogram": [
           {
            "marker": {
             "colorbar": {
              "outlinewidth": 0,
              "ticks": ""
             }
            },
            "type": "histogram"
           }
          ],
          "histogram2d": [
           {
            "colorbar": {
             "outlinewidth": 0,
             "ticks": ""
            },
            "colorscale": [
             [
              0,
              "#0d0887"
             ],
             [
              0.1111111111111111,
              "#46039f"
             ],
             [
              0.2222222222222222,
              "#7201a8"
             ],
             [
              0.3333333333333333,
              "#9c179e"
             ],
             [
              0.4444444444444444,
              "#bd3786"
             ],
             [
              0.5555555555555556,
              "#d8576b"
             ],
             [
              0.6666666666666666,
              "#ed7953"
             ],
             [
              0.7777777777777778,
              "#fb9f3a"
             ],
             [
              0.8888888888888888,
              "#fdca26"
             ],
             [
              1,
              "#f0f921"
             ]
            ],
            "type": "histogram2d"
           }
          ],
          "histogram2dcontour": [
           {
            "colorbar": {
             "outlinewidth": 0,
             "ticks": ""
            },
            "colorscale": [
             [
              0,
              "#0d0887"
             ],
             [
              0.1111111111111111,
              "#46039f"
             ],
             [
              0.2222222222222222,
              "#7201a8"
             ],
             [
              0.3333333333333333,
              "#9c179e"
             ],
             [
              0.4444444444444444,
              "#bd3786"
             ],
             [
              0.5555555555555556,
              "#d8576b"
             ],
             [
              0.6666666666666666,
              "#ed7953"
             ],
             [
              0.7777777777777778,
              "#fb9f3a"
             ],
             [
              0.8888888888888888,
              "#fdca26"
             ],
             [
              1,
              "#f0f921"
             ]
            ],
            "type": "histogram2dcontour"
           }
          ],
          "mesh3d": [
           {
            "colorbar": {
             "outlinewidth": 0,
             "ticks": ""
            },
            "type": "mesh3d"
           }
          ],
          "parcoords": [
           {
            "line": {
             "colorbar": {
              "outlinewidth": 0,
              "ticks": ""
             }
            },
            "type": "parcoords"
           }
          ],
          "pie": [
           {
            "automargin": true,
            "type": "pie"
           }
          ],
          "scatter": [
           {
            "marker": {
             "colorbar": {
              "outlinewidth": 0,
              "ticks": ""
             }
            },
            "type": "scatter"
           }
          ],
          "scatter3d": [
           {
            "line": {
             "colorbar": {
              "outlinewidth": 0,
              "ticks": ""
             }
            },
            "marker": {
             "colorbar": {
              "outlinewidth": 0,
              "ticks": ""
             }
            },
            "type": "scatter3d"
           }
          ],
          "scattercarpet": [
           {
            "marker": {
             "colorbar": {
              "outlinewidth": 0,
              "ticks": ""
             }
            },
            "type": "scattercarpet"
           }
          ],
          "scattergeo": [
           {
            "marker": {
             "colorbar": {
              "outlinewidth": 0,
              "ticks": ""
             }
            },
            "type": "scattergeo"
           }
          ],
          "scattergl": [
           {
            "marker": {
             "colorbar": {
              "outlinewidth": 0,
              "ticks": ""
             }
            },
            "type": "scattergl"
           }
          ],
          "scattermapbox": [
           {
            "marker": {
             "colorbar": {
              "outlinewidth": 0,
              "ticks": ""
             }
            },
            "type": "scattermapbox"
           }
          ],
          "scatterpolar": [
           {
            "marker": {
             "colorbar": {
              "outlinewidth": 0,
              "ticks": ""
             }
            },
            "type": "scatterpolar"
           }
          ],
          "scatterpolargl": [
           {
            "marker": {
             "colorbar": {
              "outlinewidth": 0,
              "ticks": ""
             }
            },
            "type": "scatterpolargl"
           }
          ],
          "scatterternary": [
           {
            "marker": {
             "colorbar": {
              "outlinewidth": 0,
              "ticks": ""
             }
            },
            "type": "scatterternary"
           }
          ],
          "surface": [
           {
            "colorbar": {
             "outlinewidth": 0,
             "ticks": ""
            },
            "colorscale": [
             [
              0,
              "#0d0887"
             ],
             [
              0.1111111111111111,
              "#46039f"
             ],
             [
              0.2222222222222222,
              "#7201a8"
             ],
             [
              0.3333333333333333,
              "#9c179e"
             ],
             [
              0.4444444444444444,
              "#bd3786"
             ],
             [
              0.5555555555555556,
              "#d8576b"
             ],
             [
              0.6666666666666666,
              "#ed7953"
             ],
             [
              0.7777777777777778,
              "#fb9f3a"
             ],
             [
              0.8888888888888888,
              "#fdca26"
             ],
             [
              1,
              "#f0f921"
             ]
            ],
            "type": "surface"
           }
          ],
          "table": [
           {
            "cells": {
             "fill": {
              "color": "#EBF0F8"
             },
             "line": {
              "color": "white"
             }
            },
            "header": {
             "fill": {
              "color": "#C8D4E3"
             },
             "line": {
              "color": "white"
             }
            },
            "type": "table"
           }
          ]
         },
         "layout": {
          "annotationdefaults": {
           "arrowcolor": "#2a3f5f",
           "arrowhead": 0,
           "arrowwidth": 1
          },
          "autotypenumbers": "strict",
          "coloraxis": {
           "colorbar": {
            "outlinewidth": 0,
            "ticks": ""
           }
          },
          "colorscale": {
           "diverging": [
            [
             0,
             "#8e0152"
            ],
            [
             0.1,
             "#c51b7d"
            ],
            [
             0.2,
             "#de77ae"
            ],
            [
             0.3,
             "#f1b6da"
            ],
            [
             0.4,
             "#fde0ef"
            ],
            [
             0.5,
             "#f7f7f7"
            ],
            [
             0.6,
             "#e6f5d0"
            ],
            [
             0.7,
             "#b8e186"
            ],
            [
             0.8,
             "#7fbc41"
            ],
            [
             0.9,
             "#4d9221"
            ],
            [
             1,
             "#276419"
            ]
           ],
           "sequential": [
            [
             0,
             "#0d0887"
            ],
            [
             0.1111111111111111,
             "#46039f"
            ],
            [
             0.2222222222222222,
             "#7201a8"
            ],
            [
             0.3333333333333333,
             "#9c179e"
            ],
            [
             0.4444444444444444,
             "#bd3786"
            ],
            [
             0.5555555555555556,
             "#d8576b"
            ],
            [
             0.6666666666666666,
             "#ed7953"
            ],
            [
             0.7777777777777778,
             "#fb9f3a"
            ],
            [
             0.8888888888888888,
             "#fdca26"
            ],
            [
             1,
             "#f0f921"
            ]
           ],
           "sequentialminus": [
            [
             0,
             "#0d0887"
            ],
            [
             0.1111111111111111,
             "#46039f"
            ],
            [
             0.2222222222222222,
             "#7201a8"
            ],
            [
             0.3333333333333333,
             "#9c179e"
            ],
            [
             0.4444444444444444,
             "#bd3786"
            ],
            [
             0.5555555555555556,
             "#d8576b"
            ],
            [
             0.6666666666666666,
             "#ed7953"
            ],
            [
             0.7777777777777778,
             "#fb9f3a"
            ],
            [
             0.8888888888888888,
             "#fdca26"
            ],
            [
             1,
             "#f0f921"
            ]
           ]
          },
          "colorway": [
           "#636efa",
           "#EF553B",
           "#00cc96",
           "#ab63fa",
           "#FFA15A",
           "#19d3f3",
           "#FF6692",
           "#B6E880",
           "#FF97FF",
           "#FECB52"
          ],
          "font": {
           "color": "#2a3f5f"
          },
          "geo": {
           "bgcolor": "white",
           "lakecolor": "white",
           "landcolor": "#E5ECF6",
           "showlakes": true,
           "showland": true,
           "subunitcolor": "white"
          },
          "hoverlabel": {
           "align": "left"
          },
          "hovermode": "closest",
          "mapbox": {
           "style": "light"
          },
          "paper_bgcolor": "white",
          "plot_bgcolor": "#E5ECF6",
          "polar": {
           "angularaxis": {
            "gridcolor": "white",
            "linecolor": "white",
            "ticks": ""
           },
           "bgcolor": "#E5ECF6",
           "radialaxis": {
            "gridcolor": "white",
            "linecolor": "white",
            "ticks": ""
           }
          },
          "scene": {
           "xaxis": {
            "backgroundcolor": "#E5ECF6",
            "gridcolor": "white",
            "gridwidth": 2,
            "linecolor": "white",
            "showbackground": true,
            "ticks": "",
            "zerolinecolor": "white"
           },
           "yaxis": {
            "backgroundcolor": "#E5ECF6",
            "gridcolor": "white",
            "gridwidth": 2,
            "linecolor": "white",
            "showbackground": true,
            "ticks": "",
            "zerolinecolor": "white"
           },
           "zaxis": {
            "backgroundcolor": "#E5ECF6",
            "gridcolor": "white",
            "gridwidth": 2,
            "linecolor": "white",
            "showbackground": true,
            "ticks": "",
            "zerolinecolor": "white"
           }
          },
          "shapedefaults": {
           "line": {
            "color": "#2a3f5f"
           }
          },
          "ternary": {
           "aaxis": {
            "gridcolor": "white",
            "linecolor": "white",
            "ticks": ""
           },
           "baxis": {
            "gridcolor": "white",
            "linecolor": "white",
            "ticks": ""
           },
           "bgcolor": "#E5ECF6",
           "caxis": {
            "gridcolor": "white",
            "linecolor": "white",
            "ticks": ""
           }
          },
          "title": {
           "x": 0.05
          },
          "xaxis": {
           "automargin": true,
           "gridcolor": "white",
           "linecolor": "white",
           "ticks": "",
           "title": {
            "standoff": 15
           },
           "zerolinecolor": "white",
           "zerolinewidth": 2
          },
          "yaxis": {
           "automargin": true,
           "gridcolor": "white",
           "linecolor": "white",
           "ticks": "",
           "title": {
            "standoff": 15
           },
           "zerolinecolor": "white",
           "zerolinewidth": 2
          }
         }
        },
        "xaxis": {
         "anchor": "y",
         "domain": [
          0,
          1
         ],
         "title": {
          "text": "Test Name"
         }
        },
        "yaxis": {
         "anchor": "x",
         "domain": [
          0,
          1
         ],
         "title": {
          "text": "Count"
         }
        }
       }
      },
      "text/html": [
       "<div>                            <div id=\"abb7b4fe-41b4-4e9b-b2ce-19238278c315\" class=\"plotly-graph-div\" style=\"height:525px; width:100%;\"></div>            <script type=\"text/javascript\">                require([\"plotly\"], function(Plotly) {                    window.PLOTLYENV=window.PLOTLYENV || {};                                    if (document.getElementById(\"abb7b4fe-41b4-4e9b-b2ce-19238278c315\")) {                    Plotly.newPlot(                        \"abb7b4fe-41b4-4e9b-b2ce-19238278c315\",                        [{\"alignmentgroup\": \"True\", \"hovertemplate\": \"Test Name=%{x}<br>Count=%{y}<extra></extra>\", \"legendgroup\": \"\", \"marker\": {\"color\": \"#636efa\"}, \"name\": \"\", \"offsetgroup\": \"\", \"orientation\": \"v\", \"showlegend\": false, \"textposition\": \"auto\", \"type\": \"bar\", \"x\": [\"2000m\", \"5000m\", \"10000m\", \"30 Minute\", \"1000m\", \"500m\", \"6000m\", \"60 Minute\", \"21097m\", \"4 Minute\", \"100m\", \"1 Minute\", \"42195m\"], \"xaxis\": \"x\", \"y\": [275427, 180219, 130151, 119037, 111628, 100696, 63772, 56192, 43126, 27370, 17505, 16572, 13332], \"yaxis\": \"y\"}],                        {\"barmode\": \"relative\", \"legend\": {\"tracegroupgap\": 0}, \"margin\": {\"t\": 60}, \"template\": {\"data\": {\"bar\": [{\"error_x\": {\"color\": \"#2a3f5f\"}, \"error_y\": {\"color\": \"#2a3f5f\"}, \"marker\": {\"line\": {\"color\": \"#E5ECF6\", \"width\": 0.5}}, \"type\": \"bar\"}], \"barpolar\": [{\"marker\": {\"line\": {\"color\": \"#E5ECF6\", \"width\": 0.5}}, \"type\": \"barpolar\"}], \"carpet\": [{\"aaxis\": {\"endlinecolor\": \"#2a3f5f\", \"gridcolor\": \"white\", \"linecolor\": \"white\", \"minorgridcolor\": \"white\", \"startlinecolor\": \"#2a3f5f\"}, \"baxis\": {\"endlinecolor\": \"#2a3f5f\", \"gridcolor\": \"white\", \"linecolor\": \"white\", \"minorgridcolor\": \"white\", \"startlinecolor\": \"#2a3f5f\"}, \"type\": \"carpet\"}], \"choropleth\": [{\"colorbar\": {\"outlinewidth\": 0, \"ticks\": \"\"}, \"type\": \"choropleth\"}], \"contour\": [{\"colorbar\": {\"outlinewidth\": 0, \"ticks\": \"\"}, \"colorscale\": [[0.0, \"#0d0887\"], [0.1111111111111111, \"#46039f\"], [0.2222222222222222, \"#7201a8\"], [0.3333333333333333, \"#9c179e\"], [0.4444444444444444, \"#bd3786\"], [0.5555555555555556, \"#d8576b\"], [0.6666666666666666, \"#ed7953\"], [0.7777777777777778, \"#fb9f3a\"], [0.8888888888888888, \"#fdca26\"], [1.0, \"#f0f921\"]], \"type\": \"contour\"}], \"contourcarpet\": [{\"colorbar\": {\"outlinewidth\": 0, \"ticks\": \"\"}, \"type\": \"contourcarpet\"}], \"heatmap\": [{\"colorbar\": {\"outlinewidth\": 0, \"ticks\": \"\"}, \"colorscale\": [[0.0, \"#0d0887\"], [0.1111111111111111, \"#46039f\"], [0.2222222222222222, \"#7201a8\"], [0.3333333333333333, \"#9c179e\"], [0.4444444444444444, \"#bd3786\"], [0.5555555555555556, \"#d8576b\"], [0.6666666666666666, \"#ed7953\"], [0.7777777777777778, \"#fb9f3a\"], [0.8888888888888888, \"#fdca26\"], [1.0, \"#f0f921\"]], \"type\": \"heatmap\"}], \"heatmapgl\": [{\"colorbar\": {\"outlinewidth\": 0, \"ticks\": \"\"}, \"colorscale\": [[0.0, \"#0d0887\"], [0.1111111111111111, \"#46039f\"], [0.2222222222222222, \"#7201a8\"], [0.3333333333333333, \"#9c179e\"], [0.4444444444444444, \"#bd3786\"], [0.5555555555555556, \"#d8576b\"], [0.6666666666666666, \"#ed7953\"], [0.7777777777777778, \"#fb9f3a\"], [0.8888888888888888, \"#fdca26\"], [1.0, \"#f0f921\"]], \"type\": \"heatmapgl\"}], \"histogram\": [{\"marker\": {\"colorbar\": {\"outlinewidth\": 0, \"ticks\": \"\"}}, \"type\": \"histogram\"}], \"histogram2d\": [{\"colorbar\": {\"outlinewidth\": 0, \"ticks\": \"\"}, \"colorscale\": [[0.0, \"#0d0887\"], [0.1111111111111111, \"#46039f\"], [0.2222222222222222, \"#7201a8\"], [0.3333333333333333, \"#9c179e\"], [0.4444444444444444, \"#bd3786\"], [0.5555555555555556, \"#d8576b\"], [0.6666666666666666, \"#ed7953\"], [0.7777777777777778, \"#fb9f3a\"], [0.8888888888888888, \"#fdca26\"], [1.0, \"#f0f921\"]], \"type\": \"histogram2d\"}], \"histogram2dcontour\": [{\"colorbar\": {\"outlinewidth\": 0, \"ticks\": \"\"}, \"colorscale\": [[0.0, \"#0d0887\"], [0.1111111111111111, \"#46039f\"], [0.2222222222222222, \"#7201a8\"], [0.3333333333333333, \"#9c179e\"], [0.4444444444444444, \"#bd3786\"], [0.5555555555555556, \"#d8576b\"], [0.6666666666666666, \"#ed7953\"], [0.7777777777777778, \"#fb9f3a\"], [0.8888888888888888, \"#fdca26\"], [1.0, \"#f0f921\"]], \"type\": \"histogram2dcontour\"}], \"mesh3d\": [{\"colorbar\": {\"outlinewidth\": 0, \"ticks\": \"\"}, \"type\": \"mesh3d\"}], \"parcoords\": [{\"line\": {\"colorbar\": {\"outlinewidth\": 0, \"ticks\": \"\"}}, \"type\": \"parcoords\"}], \"pie\": [{\"automargin\": true, \"type\": \"pie\"}], \"scatter\": [{\"marker\": {\"colorbar\": {\"outlinewidth\": 0, \"ticks\": \"\"}}, \"type\": \"scatter\"}], \"scatter3d\": [{\"line\": {\"colorbar\": {\"outlinewidth\": 0, \"ticks\": \"\"}}, \"marker\": {\"colorbar\": {\"outlinewidth\": 0, \"ticks\": \"\"}}, \"type\": \"scatter3d\"}], \"scattercarpet\": [{\"marker\": {\"colorbar\": {\"outlinewidth\": 0, \"ticks\": \"\"}}, \"type\": \"scattercarpet\"}], \"scattergeo\": [{\"marker\": {\"colorbar\": {\"outlinewidth\": 0, \"ticks\": \"\"}}, \"type\": \"scattergeo\"}], \"scattergl\": [{\"marker\": {\"colorbar\": {\"outlinewidth\": 0, \"ticks\": \"\"}}, \"type\": \"scattergl\"}], \"scattermapbox\": [{\"marker\": {\"colorbar\": {\"outlinewidth\": 0, \"ticks\": \"\"}}, \"type\": \"scattermapbox\"}], \"scatterpolar\": [{\"marker\": {\"colorbar\": {\"outlinewidth\": 0, \"ticks\": \"\"}}, \"type\": \"scatterpolar\"}], \"scatterpolargl\": [{\"marker\": {\"colorbar\": {\"outlinewidth\": 0, \"ticks\": \"\"}}, \"type\": \"scatterpolargl\"}], \"scatterternary\": [{\"marker\": {\"colorbar\": {\"outlinewidth\": 0, \"ticks\": \"\"}}, \"type\": \"scatterternary\"}], \"surface\": [{\"colorbar\": {\"outlinewidth\": 0, \"ticks\": \"\"}, \"colorscale\": [[0.0, \"#0d0887\"], [0.1111111111111111, \"#46039f\"], [0.2222222222222222, \"#7201a8\"], [0.3333333333333333, \"#9c179e\"], [0.4444444444444444, \"#bd3786\"], [0.5555555555555556, \"#d8576b\"], [0.6666666666666666, \"#ed7953\"], [0.7777777777777778, \"#fb9f3a\"], [0.8888888888888888, \"#fdca26\"], [1.0, \"#f0f921\"]], \"type\": \"surface\"}], \"table\": [{\"cells\": {\"fill\": {\"color\": \"#EBF0F8\"}, \"line\": {\"color\": \"white\"}}, \"header\": {\"fill\": {\"color\": \"#C8D4E3\"}, \"line\": {\"color\": \"white\"}}, \"type\": \"table\"}]}, \"layout\": {\"annotationdefaults\": {\"arrowcolor\": \"#2a3f5f\", \"arrowhead\": 0, \"arrowwidth\": 1}, \"autotypenumbers\": \"strict\", \"coloraxis\": {\"colorbar\": {\"outlinewidth\": 0, \"ticks\": \"\"}}, \"colorscale\": {\"diverging\": [[0, \"#8e0152\"], [0.1, \"#c51b7d\"], [0.2, \"#de77ae\"], [0.3, \"#f1b6da\"], [0.4, \"#fde0ef\"], [0.5, \"#f7f7f7\"], [0.6, \"#e6f5d0\"], [0.7, \"#b8e186\"], [0.8, \"#7fbc41\"], [0.9, \"#4d9221\"], [1, \"#276419\"]], \"sequential\": [[0.0, \"#0d0887\"], [0.1111111111111111, \"#46039f\"], [0.2222222222222222, \"#7201a8\"], [0.3333333333333333, \"#9c179e\"], [0.4444444444444444, \"#bd3786\"], [0.5555555555555556, \"#d8576b\"], [0.6666666666666666, \"#ed7953\"], [0.7777777777777778, \"#fb9f3a\"], [0.8888888888888888, \"#fdca26\"], [1.0, \"#f0f921\"]], \"sequentialminus\": [[0.0, \"#0d0887\"], [0.1111111111111111, \"#46039f\"], [0.2222222222222222, \"#7201a8\"], [0.3333333333333333, \"#9c179e\"], [0.4444444444444444, \"#bd3786\"], [0.5555555555555556, \"#d8576b\"], [0.6666666666666666, \"#ed7953\"], [0.7777777777777778, \"#fb9f3a\"], [0.8888888888888888, \"#fdca26\"], [1.0, \"#f0f921\"]]}, \"colorway\": [\"#636efa\", \"#EF553B\", \"#00cc96\", \"#ab63fa\", \"#FFA15A\", \"#19d3f3\", \"#FF6692\", \"#B6E880\", \"#FF97FF\", \"#FECB52\"], \"font\": {\"color\": \"#2a3f5f\"}, \"geo\": {\"bgcolor\": \"white\", \"lakecolor\": \"white\", \"landcolor\": \"#E5ECF6\", \"showlakes\": true, \"showland\": true, \"subunitcolor\": \"white\"}, \"hoverlabel\": {\"align\": \"left\"}, \"hovermode\": \"closest\", \"mapbox\": {\"style\": \"light\"}, \"paper_bgcolor\": \"white\", \"plot_bgcolor\": \"#E5ECF6\", \"polar\": {\"angularaxis\": {\"gridcolor\": \"white\", \"linecolor\": \"white\", \"ticks\": \"\"}, \"bgcolor\": \"#E5ECF6\", \"radialaxis\": {\"gridcolor\": \"white\", \"linecolor\": \"white\", \"ticks\": \"\"}}, \"scene\": {\"xaxis\": {\"backgroundcolor\": \"#E5ECF6\", \"gridcolor\": \"white\", \"gridwidth\": 2, \"linecolor\": \"white\", \"showbackground\": true, \"ticks\": \"\", \"zerolinecolor\": \"white\"}, \"yaxis\": {\"backgroundcolor\": \"#E5ECF6\", \"gridcolor\": \"white\", \"gridwidth\": 2, \"linecolor\": \"white\", \"showbackground\": true, \"ticks\": \"\", \"zerolinecolor\": \"white\"}, \"zaxis\": {\"backgroundcolor\": \"#E5ECF6\", \"gridcolor\": \"white\", \"gridwidth\": 2, \"linecolor\": \"white\", \"showbackground\": true, \"ticks\": \"\", \"zerolinecolor\": \"white\"}}, \"shapedefaults\": {\"line\": {\"color\": \"#2a3f5f\"}}, \"ternary\": {\"aaxis\": {\"gridcolor\": \"white\", \"linecolor\": \"white\", \"ticks\": \"\"}, \"baxis\": {\"gridcolor\": \"white\", \"linecolor\": \"white\", \"ticks\": \"\"}, \"bgcolor\": \"#E5ECF6\", \"caxis\": {\"gridcolor\": \"white\", \"linecolor\": \"white\", \"ticks\": \"\"}}, \"title\": {\"x\": 0.05}, \"xaxis\": {\"automargin\": true, \"gridcolor\": \"white\", \"linecolor\": \"white\", \"ticks\": \"\", \"title\": {\"standoff\": 15}, \"zerolinecolor\": \"white\", \"zerolinewidth\": 2}, \"yaxis\": {\"automargin\": true, \"gridcolor\": \"white\", \"linecolor\": \"white\", \"ticks\": \"\", \"title\": {\"standoff\": 15}, \"zerolinecolor\": \"white\", \"zerolinewidth\": 2}}}, \"xaxis\": {\"anchor\": \"y\", \"domain\": [0.0, 1.0], \"title\": {\"text\": \"Test Name\"}}, \"yaxis\": {\"anchor\": \"x\", \"domain\": [0.0, 1.0], \"title\": {\"text\": \"Count\"}}},                        {\"responsive\": true}                    ).then(function(){\n",
       "                            \n",
       "var gd = document.getElementById('abb7b4fe-41b4-4e9b-b2ce-19238278c315');\n",
       "var x = new MutationObserver(function (mutations, observer) {{\n",
       "        var display = window.getComputedStyle(gd).display;\n",
       "        if (!display || display === 'none') {{\n",
       "            console.log([gd, 'removed!']);\n",
       "            Plotly.purge(gd);\n",
       "            observer.disconnect();\n",
       "        }}\n",
       "}});\n",
       "\n",
       "// Listen for the removal of the full notebook cells\n",
       "var notebookContainer = gd.closest('#notebook-container');\n",
       "if (notebookContainer) {{\n",
       "    x.observe(notebookContainer, {childList: true});\n",
       "}}\n",
       "\n",
       "// Listen for the clearing of the current output cell\n",
       "var outputEl = gd.closest('.output');\n",
       "if (outputEl) {{\n",
       "    x.observe(outputEl, {childList: true});\n",
       "}}\n",
       "\n",
       "                        })                };                });            </script>        </div>"
      ]
     },
     "metadata": {},
     "output_type": "display_data"
    }
   ],
   "source": [
    "fig = px.bar(test_counts, x='Test Name', y='Count')\n",
    "fig.show()"
   ]
  },
  {
   "cell_type": "code",
   "execution_count": null,
   "metadata": {},
   "outputs": [],
   "source": []
  }
 ],
 "metadata": {
  "kernelspec": {
   "display_name": "Python [conda env:fitdat] *",
   "language": "python",
   "name": "conda-env-fitdat-py"
  },
  "language_info": {
   "codemirror_mode": {
    "name": "ipython",
    "version": 3
   },
   "file_extension": ".py",
   "mimetype": "text/x-python",
   "name": "python",
   "nbconvert_exporter": "python",
   "pygments_lexer": "ipython3",
   "version": "3.8.5"
  },
  "toc-autonumbering": false,
  "toc-showcode": false,
  "toc-showmarkdowntxt": false,
  "toc-showtags": false
 },
 "nbformat": 4,
 "nbformat_minor": 4
}
