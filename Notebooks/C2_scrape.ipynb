{
 "cells": [
  {
   "cell_type": "markdown",
   "metadata": {},
   "source": [
    "# Import Dependencies"
   ]
  },
  {
   "cell_type": "code",
   "execution_count": 1,
   "metadata": {},
   "outputs": [],
   "source": [
    "#importing the needed dependencies\n",
    "import pandas as pd\n",
    "from splinter import Browser\n",
    "from bs4 import BeautifulSoup as bs\n",
    "from webdriver_manager.chrome import ChromeDriverManager"
   ]
  },
  {
   "cell_type": "code",
   "execution_count": 2,
   "metadata": {},
   "outputs": [],
   "source": [
    "#setting the initial url\n",
    "url = 'https://log.concept2.com/rankings'"
   ]
  },
  {
   "cell_type": "markdown",
   "metadata": {},
   "source": [
    "# 2000m"
   ]
  },
  {
   "cell_type": "markdown",
   "metadata": {},
   "source": [
    "## Mens"
   ]
  },
  {
   "cell_type": "code",
   "execution_count": 3,
   "metadata": {},
   "outputs": [],
   "source": [
    "#search criteria\n",
    "season = [int(x) for x in range(2002,2021)]"
   ]
  },
  {
   "cell_type": "code",
   "execution_count": 4,
   "metadata": {},
   "outputs": [
    {
     "name": "stderr",
     "output_type": "stream",
     "text": [
      "[WDM] - Current google-chrome version is 87.0.4280\n",
      "[WDM] - Get LATEST driver version for 87.0.4280\n",
      "[WDM] - Driver [/Users/johnnyshuford/.wdm/drivers/chromedriver/mac64/87.0.4280.88/chromedriver] found in cache\n"
     ]
    },
    {
     "name": "stdout",
     "output_type": "stream",
     "text": [
      " \n"
     ]
    }
   ],
   "source": [
    "#trying to get the iteration for the page loops\n",
    "executable_path = {'executable_path': ChromeDriverManager().install()}\n",
    "browser = Browser('chrome', **executable_path, headless=False)"
   ]
  },
  {
   "cell_type": "code",
   "execution_count": null,
   "metadata": {},
   "outputs": [],
   "source": []
  },
  {
   "cell_type": "code",
   "execution_count": 5,
   "metadata": {},
   "outputs": [],
   "source": [
    "#twoK_M_2021 = pd.read_html(search_url)[1]"
   ]
  },
  {
   "cell_type": "code",
   "execution_count": 6,
   "metadata": {},
   "outputs": [],
   "source": [
    "# for x in range (2,209):\n",
    "#     twoK_search = f'{url}/{season}/{category}/{test}?gender={gender}&page={x}'\n",
    "#     #print(twoK_search)\n",
    "#     twoK_M_2021 = twoK_M_2021.append(pd.read_html(twoK_search)[1], ignore_index = True)"
   ]
  },
  {
   "cell_type": "code",
   "execution_count": 7,
   "metadata": {},
   "outputs": [],
   "source": [
    "# twoK_M.to_csv('../CSVs/2000m_M_2021.csv')"
   ]
  },
  {
   "cell_type": "code",
   "execution_count": 8,
   "metadata": {},
   "outputs": [
    {
     "name": "stdout",
     "output_type": "stream",
     "text": [
      "https://log.concept2.com/rankings/2002/rower/2000\n",
      "243\n"
     ]
    },
    {
     "ename": "NameError",
     "evalue": "name 'twoK' is not defined",
     "output_type": "error",
     "traceback": [
      "\u001b[0;31m---------------------------------------------------------------------------\u001b[0m",
      "\u001b[0;31mNameError\u001b[0m                                 Traceback (most recent call last)",
      "\u001b[0;32m<ipython-input-8-98c8395ee94e>\u001b[0m in \u001b[0;36m<module>\u001b[0;34m\u001b[0m\n\u001b[1;32m      8\u001b[0m     \u001b[0mpage_numbers\u001b[0m \u001b[0;34m=\u001b[0m \u001b[0mint\u001b[0m\u001b[0;34m(\u001b[0m\u001b[0msoup\u001b[0m\u001b[0;34m.\u001b[0m\u001b[0mselect\u001b[0m\u001b[0;34m(\u001b[0m\u001b[0;34m\"div > ul[class=pagination] > li\"\u001b[0m\u001b[0;34m)\u001b[0m\u001b[0;34m[\u001b[0m\u001b[0;36m11\u001b[0m\u001b[0;34m]\u001b[0m\u001b[0;34m.\u001b[0m\u001b[0mtext\u001b[0m\u001b[0;34m)\u001b[0m\u001b[0;34m\u001b[0m\u001b[0;34m\u001b[0m\u001b[0m\n\u001b[1;32m      9\u001b[0m     \u001b[0mprint\u001b[0m\u001b[0;34m(\u001b[0m\u001b[0mpage_numbers\u001b[0m\u001b[0;34m)\u001b[0m\u001b[0;34m\u001b[0m\u001b[0;34m\u001b[0m\u001b[0m\n\u001b[0;32m---> 10\u001b[0;31m     \u001b[0mtwoK\u001b[0m \u001b[0;34m=\u001b[0m \u001b[0mtwoK\u001b[0m\u001b[0;34m.\u001b[0m\u001b[0mappend\u001b[0m\u001b[0;34m(\u001b[0m\u001b[0mpd\u001b[0m\u001b[0;34m.\u001b[0m\u001b[0mread_html\u001b[0m\u001b[0;34m(\u001b[0m\u001b[0minitial_url\u001b[0m\u001b[0;34m)\u001b[0m\u001b[0;34m[\u001b[0m\u001b[0;36m1\u001b[0m\u001b[0;34m]\u001b[0m\u001b[0;34m,\u001b[0m \u001b[0mignore_index\u001b[0m \u001b[0;34m=\u001b[0m \u001b[0;32mTrue\u001b[0m\u001b[0;34m)\u001b[0m\u001b[0;34m\u001b[0m\u001b[0;34m\u001b[0m\u001b[0m\n\u001b[0m\u001b[1;32m     11\u001b[0m     \u001b[0;32mfor\u001b[0m \u001b[0mx\u001b[0m \u001b[0;32min\u001b[0m \u001b[0mrange\u001b[0m \u001b[0;34m(\u001b[0m\u001b[0;36m2\u001b[0m\u001b[0;34m,\u001b[0m \u001b[0mpage_numbers\u001b[0m\u001b[0;34m)\u001b[0m\u001b[0;34m:\u001b[0m\u001b[0;34m\u001b[0m\u001b[0;34m\u001b[0m\u001b[0m\n\u001b[1;32m     12\u001b[0m         \u001b[0mprint\u001b[0m\u001b[0;34m(\u001b[0m\u001b[0;34mf'{url}/{currenet_season}/rower/2000&page={x}'\u001b[0m\u001b[0;34m)\u001b[0m\u001b[0;34m\u001b[0m\u001b[0;34m\u001b[0m\u001b[0m\n",
      "\u001b[0;31mNameError\u001b[0m: name 'twoK' is not defined"
     ]
    }
   ],
   "source": [
    "for x in (season):\n",
    "    currenet_season = x\n",
    "    initial_url = f'{url}/{currenet_season}/rower/2000'\n",
    "    print(initial_url)\n",
    "    browser.visit(initial_url)\n",
    "    html = browser.html\n",
    "    soup = bs(html, 'lxml')\n",
    "    page_numbers = int(soup.select(\"div > ul[class=pagination] > li\")[11].text)\n",
    "    print(page_numbers)\n",
    "    twoK = twoK.append(pd.read_html(initial_url)[1], ignore_index = True)\n",
    "    for x in range (2, page_numbers):\n",
    "        print(f'{url}/{currenet_season}/rower/2000&page={x}')"
   ]
  },
  {
   "cell_type": "code",
   "execution_count": 14,
   "metadata": {},
   "outputs": [],
   "source": [
    "browser.visit(initial_url)"
   ]
  },
  {
   "cell_type": "code",
   "execution_count": 18,
   "metadata": {},
   "outputs": [
    {
     "name": "stdout",
     "output_type": "stream",
     "text": [
      "https://log.concept2.com/rankings/2020/rower/2000?gender=M&page=1\n"
     ]
    }
   ],
   "source": [
    "print(initial_url)"
   ]
  },
  {
   "cell_type": "code",
   "execution_count": 16,
   "metadata": {},
   "outputs": [],
   "source": [
    "html = browser.html\n",
    "soup = bs(html, 'lxml')"
   ]
  },
  {
   "cell_type": "code",
   "execution_count": 1,
   "metadata": {},
   "outputs": [],
   "source": [
    "#print(soup)"
   ]
  },
  {
   "cell_type": "code",
   "execution_count": 38,
   "metadata": {},
   "outputs": [],
   "source": [
    "athletes = soup.select(\"td > a\")\n",
    "athlete_url = [x['href'] for x in athletes]\n",
    "athlete_len = len(athlete_url)"
   ]
  },
  {
   "cell_type": "code",
   "execution_count": 63,
   "metadata": {},
   "outputs": [
    {
     "name": "stdout",
     "output_type": "stream",
     "text": [
      "<class 'int'>\n"
     ]
    }
   ],
   "source": [
    "print(type(athlete_len))"
   ]
  },
  {
   "cell_type": "code",
   "execution_count": 42,
   "metadata": {},
   "outputs": [],
   "source": [
    "# for x in range (athlete_len):\n",
    "#     print(athlete_url[x])"
   ]
  },
  {
   "cell_type": "code",
   "execution_count": 62,
   "metadata": {},
   "outputs": [
    {
     "name": "stdout",
     "output_type": "stream",
     "text": [
      "<class 'int'>\n"
     ]
    }
   ],
   "source": [
    "page_numbers = int(soup.select(\"div > ul[class=pagination] > li\")[11].text)\n",
    "print(type(page_numbers))"
   ]
  },
  {
   "cell_type": "code",
   "execution_count": 1,
   "metadata": {},
   "outputs": [],
   "source": [
    "# for year in (season):\n",
    "#     if year == 2002:\n",
    "#         initial_url = f'{url}/{x}/{category}/{test}?gender={gender}&page={1}'\n",
    "#         print(initial_url)\n",
    "#         #twoK_M_2002 = pd.read_html(search_url)[1]\n",
    "#         for page in range (2,179):\n",
    "#             search_2002 = f'{url}/{2002}/{category}/{test}?gender={gender}&page={x}'\n",
    "#             print(search_2002)\n",
    "#             #twoK_M_2002 = twoK_M_2002.append(pd.read_html(search_2002)[1], ignore_indent = True)\n",
    "#         #twoK_M_2002.to_csv('../CSVs/2000m_M_2002.csv')\n",
    "#     elif x == 2003:\n",
    "#         initial_url = f'{url}/{x}/{category}/{test}?gender={gender}&page={1}'\n",
    "#         print(initial_url)\n",
    "#         #twoK_M_2003 = pd.read_html(search_url)[1]\n",
    "#         for x in range (2,150):\n",
    "#             search_2003 = f'{url}/{2003}/{category}/{test}?gender={gender}&page={x}'\n",
    "#             print(search_2003)\n",
    "#             #twoK_M_2003 = twoK_M_2003.append(pd.read_html(search_2003)[1], ignore_indent = True)\n",
    "#         #twoK_M_2003.to_csv('../CSVs/2000m_M_2003.csv')\n",
    "#     elif x == 2004:\n",
    "#         initial_url = f'{url}/{x}/{category}/{test}?gender={gender}&page={1}'\n",
    "#         print(initial_url)\n",
    "#         #twoK_M_2004 = pd.read_html(search_url)[1]\n",
    "#         for x in range (2,211):\n",
    "#             search_2003 = f'{url}/{2004}/{category}/{test}?gender={gender}&page={x}'\n",
    "#             print(search_2003)\n",
    "#             #twoK_M_2004 = twoK_M_2004.append(pd.read_html(search_2004)[1], ignore_indent = True)\n",
    "#         #twoK_M_2004.to_csv('../CSVs/2000m_M_2004.csv')\n",
    "#     elif x == 2005:\n",
    "#         initial_url = f'{url}/{x}/{category}/{test}?gender={gender}&page={1}'\n",
    "#         print(initial_url)\n",
    "#         #twoK_M_2005 = pd.read_html(search_url)[1]\n",
    "#         for x in range (2,162):\n",
    "#             search_2005 = f'{url}/{2005}/{category}/{test}?gender={gender}&page={x}'\n",
    "#             print(search_2005)\n",
    "#             #twoK_M_2005 = twoK_M_2005.append(pd.read_html(search_2005)[1], ignore_indent = True)\n",
    "#         #twoK_M_2005.to_csv('../CSVs/2000m_M_2005.csv')\n",
    "#     elif x == 2006:\n",
    "#         initial_url = f'{url}/{x}/{category}/{test}?gender={gender}&page={1}'\n",
    "#         print(initial_url)\n",
    "#         #twoK_M_2006 = pd.read_html(search_url)[1]\n",
    "#         for x in range (2,214):\n",
    "#             search_2006 = f'{url}/{2006}/{category}/{test}?gender={gender}&page={x}'\n",
    "#             print(search_2006)\n",
    "#             #twoK_M_2006 = twoK_M_2006.append(pd.read_html(search_2006)[1], ignore_indent = True)\n",
    "#         #twoK_M_2006.to_csv('../CSVs/2000m_M_2006.csv')\n",
    "#     elif x == 2007:\n",
    "#         initial_url = f'{url}/{x}/{category}/{test}?gender={gender}&page={1}'\n",
    "#         print(initial_url)\n",
    "#         #twoK_M_2007 = pd.read_html(initial_url)[1]\n",
    "#         for x in range (2,205):\n",
    "#             search_2007 = f'{url}/{2007}/{category}/{test}?gender={gender}&page={x}'\n",
    "#             print(search_2007)\n",
    "#             #twoK_M_2007 = twoK_M_2007.append(pd.read_html(search_2007)[1], ignore_indent = True)\n",
    "#         #twoK_M_2007.to_csv('../CSVs/2000m_M_2007.csv')\n",
    "#     elif x == 2008:\n",
    "#         initial_url = f'{url}/{x}/{category}/{test}?gender={gender}&page={1}'\n",
    "#         print(initial_url)\n",
    "#         #twoK_M_2008 = pd.read_html(initial_url)[1]\n",
    "#         for x in range (2,181):\n",
    "#             search_2007 = f'{url}/{2008}/{category}/{test}?gender={gender}&page={x}'\n",
    "#             print(search_2007)\n",
    "#             #twoK_M_2008 = twoK_M_2008.append(pd.read_html(search_2008)[1], ignore_indent = True)\n",
    "#         #twoK_M_2008.to_csv('../CSVs/2000m_M_2008.csv')\n",
    "#     elif x == 2008:\n",
    "#         initial_url = f'{url}/{x}/{category}/{test}?gender={gender}&page={1}'\n",
    "#         print(initial_url)\n",
    "#         #twoK_M_2008 = pd.read_html(initial_url)[1]\n",
    "#         for x in range (2,181):\n",
    "#             search_2007 = f'{url}/{2008}/{category}/{test}?gender={gender}&page={x}'\n",
    "#             print(search_2007)\n",
    "#             #twoK_M_2008 = twoK_M_2008.append(pd.read_html(search_2008)[1], ignore_indent = True)\n",
    "#         #twoK_M_2008.to_csv('../CSVs/2000m_M_2008.csv')"
   ]
  },
  {
   "cell_type": "code",
   "execution_count": null,
   "metadata": {},
   "outputs": [],
   "source": []
  }
 ],
 "metadata": {
  "kernelspec": {
   "display_name": "Python [conda env:fitdat] *",
   "language": "python",
   "name": "conda-env-fitdat-py"
  },
  "language_info": {
   "codemirror_mode": {
    "name": "ipython",
    "version": 3
   },
   "file_extension": ".py",
   "mimetype": "text/x-python",
   "name": "python",
   "nbconvert_exporter": "python",
   "pygments_lexer": "ipython3",
   "version": "3.8.5"
  }
 },
 "nbformat": 4,
 "nbformat_minor": 4
}
